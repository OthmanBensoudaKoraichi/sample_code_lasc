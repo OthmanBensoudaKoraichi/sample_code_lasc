{
 "cells": [
  {
   "cell_type": "code",
   "execution_count": 1,
   "metadata": {},
   "outputs": [
    {
     "name": "stderr",
     "output_type": "stream",
     "text": [
      "/lfs/guestrin-hgx-1/0/lianapat/miniconda3/envs/law-app/lib/python3.10/site-packages/tqdm/auto.py:21: TqdmWarning: IProgress not found. Please update jupyter and ipywidgets. See https://ipywidgets.readthedocs.io/en/stable/user_install.html\n",
      "  from .autonotebook import tqdm as notebook_tqdm\n"
     ]
    }
   ],
   "source": [
    "%load_ext autoreload\n",
    "%autoreload 2\n",
    "\n",
    "import pathlib\n",
    "import pandas as pd\n",
    "import lotus\n",
    "from lotus.file_extractors import DirectoryReader\n",
    "from lotus.models import LM, LiteLLMRM\n",
    "from lotus.vector_store import FaissVS\n",
    "from utils import *\n",
    "import os"
   ]
  },
  {
   "cell_type": "markdown",
   "metadata": {},
   "source": [
    "## 1) set model configs"
   ]
  },
  {
   "cell_type": "code",
   "execution_count": 2,
   "metadata": {},
   "outputs": [],
   "source": [
    "lm = LM(\"gpt-4o-mini\", temperature=0.0)\n",
    "rm = LiteLLMRM(model=\"text-embedding-3-small\")\n",
    "vs = FaissVS()\n",
    "lotus.settings.configure(lm=lm, rm=rm, vs=vs)"
   ]
  },
  {
   "cell_type": "markdown",
   "metadata": {},
   "source": [
    "#### add api key here"
   ]
  },
  {
   "cell_type": "code",
   "execution_count": 32,
   "metadata": {},
   "outputs": [
    {
     "name": "stdout",
     "output_type": "stream",
     "text": [
      "env: OPENAI_API_KEY=sk-\n"
     ]
    }
   ],
   "source": [
    "%set_env OPENAI_API_KEY=sk-"
   ]
  },
  {
   "cell_type": "markdown",
   "metadata": {},
   "source": [
    "## 2) load data\n"
   ]
  },
  {
   "cell_type": "code",
   "execution_count": 4,
   "metadata": {},
   "outputs": [],
   "source": [
    "# laod the data from code/ocr_pages\n",
    "pdf_path = \"data/ocr_pages\"\n",
    "in_df = DirectoryReader().add(pdf_path).to_df(per_page=True)"
   ]
  },
  {
   "cell_type": "code",
   "execution_count": 5,
   "metadata": {},
   "outputs": [],
   "source": [
    "df = chunk_content(in_df, chunk_size=500)\n"
   ]
  },
  {
   "cell_type": "code",
   "execution_count": 6,
   "metadata": {},
   "outputs": [
    {
     "data": {
      "text/html": [
       "<div>\n",
       "<style scoped>\n",
       "    .dataframe tbody tr th:only-of-type {\n",
       "        vertical-align: middle;\n",
       "    }\n",
       "\n",
       "    .dataframe tbody tr th {\n",
       "        vertical-align: top;\n",
       "    }\n",
       "\n",
       "    .dataframe thead th {\n",
       "        text-align: right;\n",
       "    }\n",
       "</style>\n",
       "<table border=\"1\" class=\"dataframe\">\n",
       "  <thead>\n",
       "    <tr style=\"text-align: right;\">\n",
       "      <th></th>\n",
       "      <th>content</th>\n",
       "      <th>chunk_id</th>\n",
       "      <th>file_path</th>\n",
       "      <th>file_name</th>\n",
       "      <th>file_type</th>\n",
       "      <th>file_size</th>\n",
       "      <th>creation_date</th>\n",
       "      <th>last_modified_date</th>\n",
       "      <th>page_label</th>\n",
       "    </tr>\n",
       "  </thead>\n",
       "  <tbody>\n",
       "    <tr>\n",
       "      <th>0</th>\n",
       "      <td>So Oo NN DB WOW BR W NO\\n\\n10\\n11\\n12\\n13\\n14\\...</td>\n",
       "      <td>0</td>\n",
       "      <td>/lfs/guestrin-hgx-1/0/lianapat/law-app/sample_...</td>\n",
       "      <td>page_1.txt</td>\n",
       "      <td>text/plain</td>\n",
       "      <td>1801</td>\n",
       "      <td>2025-05-12</td>\n",
       "      <td>2025-05-12</td>\n",
       "      <td>1</td>\n",
       "    </tr>\n",
       "    <tr>\n",
       "      <th>1</th>\n",
       "      <td>LIFORNIA COUNTY OF\\nLOS ANGELES, NORTH VALLEY ...</td>\n",
       "      <td>1</td>\n",
       "      <td>/lfs/guestrin-hgx-1/0/lianapat/law-app/sample_...</td>\n",
       "      <td>page_1.txt</td>\n",
       "      <td>text/plain</td>\n",
       "      <td>1801</td>\n",
       "      <td>2025-05-12</td>\n",
       "      <td>2025-05-12</td>\n",
       "      <td>1</td>\n",
       "    </tr>\n",
       "    <tr>\n",
       "      <th>2</th>\n",
       "      <td>ized and existing under and by virtue of the s...</td>\n",
       "      <td>2</td>\n",
       "      <td>/lfs/guestrin-hgx-1/0/lianapat/law-app/sample_...</td>\n",
       "      <td>page_1.txt</td>\n",
       "      <td>text/plain</td>\n",
       "      <td>1801</td>\n",
       "      <td>2025-05-12</td>\n",
       "      <td>2025-05-12</td>\n",
       "      <td>1</td>\n",
       "    </tr>\n",
       "    <tr>\n",
       "      <th>3</th>\n",
       "      <td>s. Plaintiff is\\ninformed and believes, and th...</td>\n",
       "      <td>3</td>\n",
       "      <td>/lfs/guestrin-hgx-1/0/lianapat/law-app/sample_...</td>\n",
       "      <td>page_1.txt</td>\n",
       "      <td>text/plain</td>\n",
       "      <td>1801</td>\n",
       "      <td>2025-05-12</td>\n",
       "      <td>2025-05-12</td>\n",
       "      <td>1</td>\n",
       "    </tr>\n",
       "    <tr>\n",
       "      <th>4</th>\n",
       "      <td>Copy of the Electronic Original® document mana...</td>\n",
       "      <td>0</td>\n",
       "      <td>/lfs/guestrin-hgx-1/0/lianapat/law-app/sample_...</td>\n",
       "      <td>page_10.txt</td>\n",
       "      <td>text/plain</td>\n",
       "      <td>4362</td>\n",
       "      <td>2025-05-12</td>\n",
       "      <td>2025-05-12</td>\n",
       "      <td>1</td>\n",
       "    </tr>\n",
       "  </tbody>\n",
       "</table>\n",
       "</div>"
      ],
      "text/plain": [
       "                                             content  chunk_id  \\\n",
       "0  So Oo NN DB WOW BR W NO\\n\\n10\\n11\\n12\\n13\\n14\\...         0   \n",
       "1  LIFORNIA COUNTY OF\\nLOS ANGELES, NORTH VALLEY ...         1   \n",
       "2  ized and existing under and by virtue of the s...         2   \n",
       "3  s. Plaintiff is\\ninformed and believes, and th...         3   \n",
       "4  Copy of the Electronic Original® document mana...         0   \n",
       "\n",
       "                                           file_path    file_name   file_type  \\\n",
       "0  /lfs/guestrin-hgx-1/0/lianapat/law-app/sample_...   page_1.txt  text/plain   \n",
       "1  /lfs/guestrin-hgx-1/0/lianapat/law-app/sample_...   page_1.txt  text/plain   \n",
       "2  /lfs/guestrin-hgx-1/0/lianapat/law-app/sample_...   page_1.txt  text/plain   \n",
       "3  /lfs/guestrin-hgx-1/0/lianapat/law-app/sample_...   page_1.txt  text/plain   \n",
       "4  /lfs/guestrin-hgx-1/0/lianapat/law-app/sample_...  page_10.txt  text/plain   \n",
       "\n",
       "   file_size creation_date last_modified_date  page_label  \n",
       "0       1801    2025-05-12         2025-05-12           1  \n",
       "1       1801    2025-05-12         2025-05-12           1  \n",
       "2       1801    2025-05-12         2025-05-12           1  \n",
       "3       1801    2025-05-12         2025-05-12           1  \n",
       "4       4362    2025-05-12         2025-05-12           1  "
      ]
     },
     "execution_count": 6,
     "metadata": {},
     "output_type": "execute_result"
    }
   ],
   "source": [
    "df.head()"
   ]
  },
  {
   "cell_type": "markdown",
   "metadata": {},
   "source": [
    "## 3) create and load our index"
   ]
  },
  {
   "cell_type": "code",
   "execution_count": 22,
   "metadata": {},
   "outputs": [],
   "source": [
    "# Note: only run this once\n",
    "# df = df.sem_index(\"content\", \"data/content_index\")\n",
    "df = df.load_sem_index(\"content\", \"data/content_index\")"
   ]
  },
  {
   "cell_type": "markdown",
   "metadata": {},
   "source": [
    "## 4) perform simple queries"
   ]
  },
  {
   "cell_type": "code",
   "execution_count": 29,
   "metadata": {},
   "outputs": [],
   "source": [
    "def qa_pipeline(in_df, query, K=7):\n",
    "    evidence_df = in_df.sem_search(\"content\", query, K=K)\n",
    "    res = evidence_df.sem_agg(f\"Answer the query based on the {{content}}.\\nQuery: {query}\")\n",
    "    return res.iloc[0]._output, evidence_df\n"
   ]
  },
  {
   "cell_type": "markdown",
   "metadata": {},
   "source": [
    "### simple search test"
   ]
  },
  {
   "cell_type": "code",
   "execution_count": 26,
   "metadata": {},
   "outputs": [
    {
     "name": "stderr",
     "output_type": "stream",
     "text": [
      "100%|██████████| 1/1 [00:00<00:00,  7.51it/s]\n"
     ]
    },
    {
     "data": {
      "text/html": [
       "<div>\n",
       "<style scoped>\n",
       "    .dataframe tbody tr th:only-of-type {\n",
       "        vertical-align: middle;\n",
       "    }\n",
       "\n",
       "    .dataframe tbody tr th {\n",
       "        vertical-align: top;\n",
       "    }\n",
       "\n",
       "    .dataframe thead th {\n",
       "        text-align: right;\n",
       "    }\n",
       "</style>\n",
       "<table border=\"1\" class=\"dataframe\">\n",
       "  <thead>\n",
       "    <tr style=\"text-align: right;\">\n",
       "      <th></th>\n",
       "      <th>content</th>\n",
       "      <th>chunk_id</th>\n",
       "      <th>file_path</th>\n",
       "      <th>file_name</th>\n",
       "      <th>file_type</th>\n",
       "      <th>file_size</th>\n",
       "      <th>creation_date</th>\n",
       "      <th>last_modified_date</th>\n",
       "      <th>page_label</th>\n",
       "    </tr>\n",
       "  </thead>\n",
       "  <tbody>\n",
       "    <tr>\n",
       "      <th>3</th>\n",
       "      <td>s. Plaintiff is\\ninformed and believes, and th...</td>\n",
       "      <td>3</td>\n",
       "      <td>/lfs/guestrin-hgx-1/0/lianapat/law-app/sample_...</td>\n",
       "      <td>page_1.txt</td>\n",
       "      <td>text/plain</td>\n",
       "      <td>1801</td>\n",
       "      <td>2025-05-12</td>\n",
       "      <td>2025-05-12</td>\n",
       "      <td>1</td>\n",
       "    </tr>\n",
       "    <tr>\n",
       "      <th>2</th>\n",
       "      <td>ized and existing under and by virtue of the s...</td>\n",
       "      <td>2</td>\n",
       "      <td>/lfs/guestrin-hgx-1/0/lianapat/law-app/sample_...</td>\n",
       "      <td>page_1.txt</td>\n",
       "      <td>text/plain</td>\n",
       "      <td>1801</td>\n",
       "      <td>2025-05-12</td>\n",
       "      <td>2025-05-12</td>\n",
       "      <td>1</td>\n",
       "    </tr>\n",
       "    <tr>\n",
       "      <th>49</th>\n",
       "      <td>So Oo NN DB WOW BR W NO\\n\\n10\\n11\\n12\\n13\\n14\\...</td>\n",
       "      <td>0</td>\n",
       "      <td>/lfs/guestrin-hgx-1/0/lianapat/law-app/sample_...</td>\n",
       "      <td>page_2.txt</td>\n",
       "      <td>text/plain</td>\n",
       "      <td>2265</td>\n",
       "      <td>2025-05-12</td>\n",
       "      <td>2025-05-12</td>\n",
       "      <td>1</td>\n",
       "    </tr>\n",
       "    <tr>\n",
       "      <th>50</th>\n",
       "      <td>il Code, §2984.4, nor Civil Code, $1812.10.\\n\\...</td>\n",
       "      <td>1</td>\n",
       "      <td>/lfs/guestrin-hgx-1/0/lianapat/law-app/sample_...</td>\n",
       "      <td>page_2.txt</td>\n",
       "      <td>text/plain</td>\n",
       "      <td>2265</td>\n",
       "      <td>2025-05-12</td>\n",
       "      <td>2025-05-12</td>\n",
       "      <td>1</td>\n",
       "    </tr>\n",
       "    <tr>\n",
       "      <th>1</th>\n",
       "      <td>LIFORNIA COUNTY OF\\nLOS ANGELES, NORTH VALLEY ...</td>\n",
       "      <td>1</td>\n",
       "      <td>/lfs/guestrin-hgx-1/0/lianapat/law-app/sample_...</td>\n",
       "      <td>page_1.txt</td>\n",
       "      <td>text/plain</td>\n",
       "      <td>1801</td>\n",
       "      <td>2025-05-12</td>\n",
       "      <td>2025-05-12</td>\n",
       "      <td>1</td>\n",
       "    </tr>\n",
       "  </tbody>\n",
       "</table>\n",
       "</div>"
      ],
      "text/plain": [
       "                                              content  chunk_id  \\\n",
       "3   s. Plaintiff is\\ninformed and believes, and th...         3   \n",
       "2   ized and existing under and by virtue of the s...         2   \n",
       "49  So Oo NN DB WOW BR W NO\\n\\n10\\n11\\n12\\n13\\n14\\...         0   \n",
       "50  il Code, §2984.4, nor Civil Code, $1812.10.\\n\\...         1   \n",
       "1   LIFORNIA COUNTY OF\\nLOS ANGELES, NORTH VALLEY ...         1   \n",
       "\n",
       "                                            file_path   file_name   file_type  \\\n",
       "3   /lfs/guestrin-hgx-1/0/lianapat/law-app/sample_...  page_1.txt  text/plain   \n",
       "2   /lfs/guestrin-hgx-1/0/lianapat/law-app/sample_...  page_1.txt  text/plain   \n",
       "49  /lfs/guestrin-hgx-1/0/lianapat/law-app/sample_...  page_2.txt  text/plain   \n",
       "50  /lfs/guestrin-hgx-1/0/lianapat/law-app/sample_...  page_2.txt  text/plain   \n",
       "1   /lfs/guestrin-hgx-1/0/lianapat/law-app/sample_...  page_1.txt  text/plain   \n",
       "\n",
       "    file_size creation_date last_modified_date  page_label  \n",
       "3        1801    2025-05-12         2025-05-12           1  \n",
       "2        1801    2025-05-12         2025-05-12           1  \n",
       "49       2265    2025-05-12         2025-05-12           1  \n",
       "50       2265    2025-05-12         2025-05-12           1  \n",
       "1        1801    2025-05-12         2025-05-12           1  "
      ]
     },
     "execution_count": 26,
     "metadata": {},
     "output_type": "execute_result"
    }
   ],
   "source": [
    "df.sem_search(\"content\", \"plaintiff\", K=5)"
   ]
  },
  {
   "cell_type": "markdown",
   "metadata": {},
   "source": [
    "### test query 1"
   ]
  },
  {
   "cell_type": "code",
   "execution_count": 30,
   "metadata": {},
   "outputs": [
    {
     "name": "stderr",
     "output_type": "stream",
     "text": [
      "100%|██████████| 1/1 [00:00<00:00,  5.74it/s]\n",
      "Aggregating: 100%|██████████ 1/1 LM calls [00:00<00:00,  1.27it/s]"
     ]
    },
    {
     "name": "stdout",
     "output_type": "stream",
     "text": [
      "Yes, the plaintiff is a debt buyer and the sole owner of the account in question.\n"
     ]
    },
    {
     "name": "stderr",
     "output_type": "stream",
     "text": [
      "\n"
     ]
    },
    {
     "data": {
      "text/html": [
       "<div>\n",
       "<style scoped>\n",
       "    .dataframe tbody tr th:only-of-type {\n",
       "        vertical-align: middle;\n",
       "    }\n",
       "\n",
       "    .dataframe tbody tr th {\n",
       "        vertical-align: top;\n",
       "    }\n",
       "\n",
       "    .dataframe thead th {\n",
       "        text-align: right;\n",
       "    }\n",
       "</style>\n",
       "<table border=\"1\" class=\"dataframe\">\n",
       "  <thead>\n",
       "    <tr style=\"text-align: right;\">\n",
       "      <th></th>\n",
       "      <th>content</th>\n",
       "      <th>chunk_id</th>\n",
       "      <th>file_path</th>\n",
       "      <th>file_name</th>\n",
       "      <th>file_type</th>\n",
       "      <th>file_size</th>\n",
       "      <th>creation_date</th>\n",
       "      <th>last_modified_date</th>\n",
       "      <th>page_label</th>\n",
       "    </tr>\n",
       "  </thead>\n",
       "  <tbody>\n",
       "    <tr>\n",
       "      <th>50</th>\n",
       "      <td>il Code, §2984.4, nor Civil Code, $1812.10.\\n\\...</td>\n",
       "      <td>1</td>\n",
       "      <td>/lfs/guestrin-hgx-1/0/lianapat/law-app/sample_...</td>\n",
       "      <td>page_2.txt</td>\n",
       "      <td>text/plain</td>\n",
       "      <td>2265</td>\n",
       "      <td>2025-05-12</td>\n",
       "      <td>2025-05-12</td>\n",
       "      <td>1</td>\n",
       "    </tr>\n",
       "    <tr>\n",
       "      <th>2</th>\n",
       "      <td>ized and existing under and by virtue of the s...</td>\n",
       "      <td>2</td>\n",
       "      <td>/lfs/guestrin-hgx-1/0/lianapat/law-app/sample_...</td>\n",
       "      <td>page_1.txt</td>\n",
       "      <td>text/plain</td>\n",
       "      <td>1801</td>\n",
       "      <td>2025-05-12</td>\n",
       "      <td>2025-05-12</td>\n",
       "      <td>1</td>\n",
       "    </tr>\n",
       "    <tr>\n",
       "      <th>52</th>\n",
       "      <td>MONTEREY PARK CA 91754.\\n\\n9. The names and ad...</td>\n",
       "      <td>3</td>\n",
       "      <td>/lfs/guestrin-hgx-1/0/lianapat/law-app/sample_...</td>\n",
       "      <td>page_2.txt</td>\n",
       "      <td>text/plain</td>\n",
       "      <td>2265</td>\n",
       "      <td>2025-05-12</td>\n",
       "      <td>2025-05-12</td>\n",
       "      <td>1</td>\n",
       "    </tr>\n",
       "    <tr>\n",
       "      <th>54</th>\n",
       "      <td>So Oo NN DB WOW BR W NO\\n\\n10\\n11\\n12\\n13\\n14\\...</td>\n",
       "      <td>0</td>\n",
       "      <td>/lfs/guestrin-hgx-1/0/lianapat/law-app/sample_...</td>\n",
       "      <td>page_3.txt</td>\n",
       "      <td>text/plain</td>\n",
       "      <td>1434</td>\n",
       "      <td>2025-05-12</td>\n",
       "      <td>2025-05-12</td>\n",
       "      <td>1</td>\n",
       "    </tr>\n",
       "    <tr>\n",
       "      <th>56</th>\n",
       "      <td>nce incorporates the same herein\\nas though fu...</td>\n",
       "      <td>2</td>\n",
       "      <td>/lfs/guestrin-hgx-1/0/lianapat/law-app/sample_...</td>\n",
       "      <td>page_3.txt</td>\n",
       "      <td>text/plain</td>\n",
       "      <td>1434</td>\n",
       "      <td>2025-05-12</td>\n",
       "      <td>2025-05-12</td>\n",
       "      <td>1</td>\n",
       "    </tr>\n",
       "  </tbody>\n",
       "</table>\n",
       "</div>"
      ],
      "text/plain": [
       "                                              content  chunk_id  \\\n",
       "50  il Code, §2984.4, nor Civil Code, $1812.10.\\n\\...         1   \n",
       "2   ized and existing under and by virtue of the s...         2   \n",
       "52  MONTEREY PARK CA 91754.\\n\\n9. The names and ad...         3   \n",
       "54  So Oo NN DB WOW BR W NO\\n\\n10\\n11\\n12\\n13\\n14\\...         0   \n",
       "56  nce incorporates the same herein\\nas though fu...         2   \n",
       "\n",
       "                                            file_path   file_name   file_type  \\\n",
       "50  /lfs/guestrin-hgx-1/0/lianapat/law-app/sample_...  page_2.txt  text/plain   \n",
       "2   /lfs/guestrin-hgx-1/0/lianapat/law-app/sample_...  page_1.txt  text/plain   \n",
       "52  /lfs/guestrin-hgx-1/0/lianapat/law-app/sample_...  page_2.txt  text/plain   \n",
       "54  /lfs/guestrin-hgx-1/0/lianapat/law-app/sample_...  page_3.txt  text/plain   \n",
       "56  /lfs/guestrin-hgx-1/0/lianapat/law-app/sample_...  page_3.txt  text/plain   \n",
       "\n",
       "    file_size creation_date last_modified_date  page_label  \n",
       "50       2265    2025-05-12         2025-05-12           1  \n",
       "2        1801    2025-05-12         2025-05-12           1  \n",
       "52       2265    2025-05-12         2025-05-12           1  \n",
       "54       1434    2025-05-12         2025-05-12           1  \n",
       "56       1434    2025-05-12         2025-05-12           1  "
      ]
     },
     "execution_count": 30,
     "metadata": {},
     "output_type": "execute_result"
    }
   ],
   "source": [
    "query = \"Is the plaintiff a debt buyer?\"\n",
    "ans, evidence_df = qa_pipeline(df, query)\n",
    "print(ans)\n",
    "evidence_df.head()"
   ]
  },
  {
   "cell_type": "markdown",
   "metadata": {},
   "source": [
    "### test query 2"
   ]
  },
  {
   "cell_type": "code",
   "execution_count": 31,
   "metadata": {},
   "outputs": [
    {
     "name": "stderr",
     "output_type": "stream",
     "text": [
      "  0%|          | 0/1 [00:00<?, ?it/s]"
     ]
    },
    {
     "name": "stderr",
     "output_type": "stream",
     "text": [
      "100%|██████████| 1/1 [00:00<00:00,  2.51it/s]\n",
      "Aggregating: 100%|██████████ 1/1 LM calls [00:00<00:00,  1.20it/s]"
     ]
    },
    {
     "name": "stdout",
     "output_type": "stream",
     "text": [
      "The defendant in this case is Paul Fernandez, along with unnamed defendants referred to as DOES 1 through 15.\n"
     ]
    },
    {
     "name": "stderr",
     "output_type": "stream",
     "text": [
      "\n"
     ]
    },
    {
     "data": {
      "text/html": [
       "<div>\n",
       "<style scoped>\n",
       "    .dataframe tbody tr th:only-of-type {\n",
       "        vertical-align: middle;\n",
       "    }\n",
       "\n",
       "    .dataframe tbody tr th {\n",
       "        vertical-align: top;\n",
       "    }\n",
       "\n",
       "    .dataframe thead th {\n",
       "        text-align: right;\n",
       "    }\n",
       "</style>\n",
       "<table border=\"1\" class=\"dataframe\">\n",
       "  <thead>\n",
       "    <tr style=\"text-align: right;\">\n",
       "      <th></th>\n",
       "      <th>content</th>\n",
       "      <th>chunk_id</th>\n",
       "      <th>file_path</th>\n",
       "      <th>file_name</th>\n",
       "      <th>file_type</th>\n",
       "      <th>file_size</th>\n",
       "      <th>creation_date</th>\n",
       "      <th>last_modified_date</th>\n",
       "      <th>page_label</th>\n",
       "    </tr>\n",
       "  </thead>\n",
       "  <tbody>\n",
       "    <tr>\n",
       "      <th>50</th>\n",
       "      <td>il Code, §2984.4, nor Civil Code, $1812.10.\\n\\...</td>\n",
       "      <td>1</td>\n",
       "      <td>/lfs/guestrin-hgx-1/0/lianapat/law-app/sample_...</td>\n",
       "      <td>page_2.txt</td>\n",
       "      <td>text/plain</td>\n",
       "      <td>2265</td>\n",
       "      <td>2025-05-12</td>\n",
       "      <td>2025-05-12</td>\n",
       "      <td>1</td>\n",
       "    </tr>\n",
       "    <tr>\n",
       "      <th>49</th>\n",
       "      <td>So Oo NN DB WOW BR W NO\\n\\n10\\n11\\n12\\n13\\n14\\...</td>\n",
       "      <td>0</td>\n",
       "      <td>/lfs/guestrin-hgx-1/0/lianapat/law-app/sample_...</td>\n",
       "      <td>page_2.txt</td>\n",
       "      <td>text/plain</td>\n",
       "      <td>2265</td>\n",
       "      <td>2025-05-12</td>\n",
       "      <td>2025-05-12</td>\n",
       "      <td>1</td>\n",
       "    </tr>\n",
       "    <tr>\n",
       "      <th>3</th>\n",
       "      <td>s. Plaintiff is\\ninformed and believes, and th...</td>\n",
       "      <td>3</td>\n",
       "      <td>/lfs/guestrin-hgx-1/0/lianapat/law-app/sample_...</td>\n",
       "      <td>page_1.txt</td>\n",
       "      <td>text/plain</td>\n",
       "      <td>1801</td>\n",
       "      <td>2025-05-12</td>\n",
       "      <td>2025-05-12</td>\n",
       "      <td>1</td>\n",
       "    </tr>\n",
       "    <tr>\n",
       "      <th>2</th>\n",
       "      <td>ized and existing under and by virtue of the s...</td>\n",
       "      <td>2</td>\n",
       "      <td>/lfs/guestrin-hgx-1/0/lianapat/law-app/sample_...</td>\n",
       "      <td>page_1.txt</td>\n",
       "      <td>text/plain</td>\n",
       "      <td>1801</td>\n",
       "      <td>2025-05-12</td>\n",
       "      <td>2025-05-12</td>\n",
       "      <td>1</td>\n",
       "    </tr>\n",
       "    <tr>\n",
       "      <th>57</th>\n",
       "      <td>So OO NN DB Wn BR W NO\\n\\n10\\n11\\n12\\n13\\n14\\n...</td>\n",
       "      <td>0</td>\n",
       "      <td>/lfs/guestrin-hgx-1/0/lianapat/law-app/sample_...</td>\n",
       "      <td>page_4.txt</td>\n",
       "      <td>text/plain</td>\n",
       "      <td>831</td>\n",
       "      <td>2025-05-12</td>\n",
       "      <td>2025-05-12</td>\n",
       "      <td>1</td>\n",
       "    </tr>\n",
       "  </tbody>\n",
       "</table>\n",
       "</div>"
      ],
      "text/plain": [
       "                                              content  chunk_id  \\\n",
       "50  il Code, §2984.4, nor Civil Code, $1812.10.\\n\\...         1   \n",
       "49  So Oo NN DB WOW BR W NO\\n\\n10\\n11\\n12\\n13\\n14\\...         0   \n",
       "3   s. Plaintiff is\\ninformed and believes, and th...         3   \n",
       "2   ized and existing under and by virtue of the s...         2   \n",
       "57  So OO NN DB Wn BR W NO\\n\\n10\\n11\\n12\\n13\\n14\\n...         0   \n",
       "\n",
       "                                            file_path   file_name   file_type  \\\n",
       "50  /lfs/guestrin-hgx-1/0/lianapat/law-app/sample_...  page_2.txt  text/plain   \n",
       "49  /lfs/guestrin-hgx-1/0/lianapat/law-app/sample_...  page_2.txt  text/plain   \n",
       "3   /lfs/guestrin-hgx-1/0/lianapat/law-app/sample_...  page_1.txt  text/plain   \n",
       "2   /lfs/guestrin-hgx-1/0/lianapat/law-app/sample_...  page_1.txt  text/plain   \n",
       "57  /lfs/guestrin-hgx-1/0/lianapat/law-app/sample_...  page_4.txt  text/plain   \n",
       "\n",
       "    file_size creation_date last_modified_date  page_label  \n",
       "50       2265    2025-05-12         2025-05-12           1  \n",
       "49       2265    2025-05-12         2025-05-12           1  \n",
       "3        1801    2025-05-12         2025-05-12           1  \n",
       "2        1801    2025-05-12         2025-05-12           1  \n",
       "57        831    2025-05-12         2025-05-12           1  "
      ]
     },
     "execution_count": 31,
     "metadata": {},
     "output_type": "execute_result"
    }
   ],
   "source": [
    "query = \"Who is the defendant?\"\n",
    "ans, evidence_df = qa_pipeline(df, query)\n",
    "print(ans)\n",
    "evidence_df.head()"
   ]
  },
  {
   "cell_type": "code",
   "execution_count": null,
   "metadata": {},
   "outputs": [],
   "source": []
  }
 ],
 "metadata": {
  "kernelspec": {
   "display_name": ".venv",
   "language": "python",
   "name": "python3"
  },
  "language_info": {
   "codemirror_mode": {
    "name": "ipython",
    "version": 3
   },
   "file_extension": ".py",
   "mimetype": "text/x-python",
   "name": "python",
   "nbconvert_exporter": "python",
   "pygments_lexer": "ipython3",
   "version": "3.10.16"
  }
 },
 "nbformat": 4,
 "nbformat_minor": 2
}
