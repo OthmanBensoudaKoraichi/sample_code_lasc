{
 "cells": [
  {
   "cell_type": "code",
   "execution_count": 58,
   "metadata": {},
   "outputs": [
    {
     "name": "stdout",
     "output_type": "stream",
     "text": [
      "The autoreload extension is already loaded. To reload it, use:\n",
      "  %reload_ext autoreload\n"
     ]
    }
   ],
   "source": [
    "%load_ext autoreload\n",
    "%autoreload 2\n",
    "\n",
    "import pathlib\n",
    "import pandas as pd\n",
    "import lotus\n",
    "from lotus.file_extractors import DirectoryReader\n",
    "from lotus.models import LM, LiteLLMRM\n",
    "from lotus.vector_store import FaissVS\n",
    "from utils import *\n",
    "import os"
   ]
  },
  {
   "cell_type": "markdown",
   "metadata": {},
   "source": [
    "## 1) set model configs"
   ]
  },
  {
   "cell_type": "code",
   "execution_count": 59,
   "metadata": {},
   "outputs": [],
   "source": [
    "lm = LM(\"gpt-4o-mini\", temperature=0.0)\n",
    "rm = LiteLLMRM(model=\"text-embedding-3-small\")\n",
    "vs = FaissVS()\n",
    "lotus.settings.configure(lm=lm, rm=rm, vs=vs)"
   ]
  },
  {
   "cell_type": "markdown",
   "metadata": {},
   "source": [
    "#### add api key here"
   ]
  },
  {
   "cell_type": "code",
   "execution_count": 70,
   "metadata": {},
   "outputs": [
    {
     "name": "stdout",
     "output_type": "stream",
     "text": [
      "env: OPENAI_API_KEY=sk-\n"
     ]
    }
   ],
   "source": [
    "%set_env OPENAI_API_KEY=sk-"
   ]
  },
  {
   "cell_type": "markdown",
   "metadata": {},
   "source": [
    "## 2) load data\n"
   ]
  },
  {
   "cell_type": "code",
   "execution_count": 4,
   "metadata": {},
   "outputs": [],
   "source": [
    "# laod the data from code/ocr_pages\n",
    "pdf_path = \"data/ocr_pages\"\n",
    "in_df = DirectoryReader().add(pdf_path).to_df(per_page=True)"
   ]
  },
  {
   "cell_type": "code",
   "execution_count": 61,
   "metadata": {},
   "outputs": [],
   "source": [
    "df = chunk_content(in_df, chunk_size=1000)\n"
   ]
  },
  {
   "cell_type": "code",
   "execution_count": 62,
   "metadata": {},
   "outputs": [
    {
     "data": {
      "text/html": [
       "<div>\n",
       "<style scoped>\n",
       "    .dataframe tbody tr th:only-of-type {\n",
       "        vertical-align: middle;\n",
       "    }\n",
       "\n",
       "    .dataframe tbody tr th {\n",
       "        vertical-align: top;\n",
       "    }\n",
       "\n",
       "    .dataframe thead th {\n",
       "        text-align: right;\n",
       "    }\n",
       "</style>\n",
       "<table border=\"1\" class=\"dataframe\">\n",
       "  <thead>\n",
       "    <tr style=\"text-align: right;\">\n",
       "      <th></th>\n",
       "      <th>content</th>\n",
       "      <th>chunk_id</th>\n",
       "      <th>file_path</th>\n",
       "      <th>file_name</th>\n",
       "      <th>file_type</th>\n",
       "      <th>file_size</th>\n",
       "      <th>creation_date</th>\n",
       "      <th>last_modified_date</th>\n",
       "      <th>page_label</th>\n",
       "    </tr>\n",
       "  </thead>\n",
       "  <tbody>\n",
       "    <tr>\n",
       "      <th>0</th>\n",
       "      <td>So Oo NN DB WOW BR W NO\\n\\n10\\n11\\n12\\n13\\n14\\...</td>\n",
       "      <td>0</td>\n",
       "      <td>/lfs/guestrin-hgx-1/0/lianapat/law-app/sample_...</td>\n",
       "      <td>page_1.txt</td>\n",
       "      <td>text/plain</td>\n",
       "      <td>1801</td>\n",
       "      <td>2025-05-12</td>\n",
       "      <td>2025-05-12</td>\n",
       "      <td>1</td>\n",
       "    </tr>\n",
       "    <tr>\n",
       "      <th>1</th>\n",
       "      <td>ized and existing under and by virtue of the s...</td>\n",
       "      <td>1</td>\n",
       "      <td>/lfs/guestrin-hgx-1/0/lianapat/law-app/sample_...</td>\n",
       "      <td>page_1.txt</td>\n",
       "      <td>text/plain</td>\n",
       "      <td>1801</td>\n",
       "      <td>2025-05-12</td>\n",
       "      <td>2025-05-12</td>\n",
       "      <td>1</td>\n",
       "    </tr>\n",
       "    <tr>\n",
       "      <th>2</th>\n",
       "      <td>Copy of the Electronic Original® document mana...</td>\n",
       "      <td>0</td>\n",
       "      <td>/lfs/guestrin-hgx-1/0/lianapat/law-app/sample_...</td>\n",
       "      <td>page_10.txt</td>\n",
       "      <td>text/plain</td>\n",
       "      <td>4362</td>\n",
       "      <td>2025-05-12</td>\n",
       "      <td>2025-05-12</td>\n",
       "      <td>1</td>\n",
       "    </tr>\n",
       "    <tr>\n",
       "      <th>3</th>\n",
       "      <td>Governing Law. I understand and agree that Fi...</td>\n",
       "      <td>1</td>\n",
       "      <td>/lfs/guestrin-hgx-1/0/lianapat/law-app/sample_...</td>\n",
       "      <td>page_10.txt</td>\n",
       "      <td>text/plain</td>\n",
       "      <td>4362</td>\n",
       "      <td>2025-05-12</td>\n",
       "      <td>2025-05-12</td>\n",
       "      <td>1</td>\n",
       "    </tr>\n",
       "    <tr>\n",
       "      <th>4</th>\n",
       "      <td>the extension of credit set forth in\\nthe Not...</td>\n",
       "      <td>2</td>\n",
       "      <td>/lfs/guestrin-hgx-1/0/lianapat/law-app/sample_...</td>\n",
       "      <td>page_10.txt</td>\n",
       "      <td>text/plain</td>\n",
       "      <td>4362</td>\n",
       "      <td>2025-05-12</td>\n",
       "      <td>2025-05-12</td>\n",
       "      <td>1</td>\n",
       "    </tr>\n",
       "  </tbody>\n",
       "</table>\n",
       "</div>"
      ],
      "text/plain": [
       "                                             content  chunk_id  \\\n",
       "0  So Oo NN DB WOW BR W NO\\n\\n10\\n11\\n12\\n13\\n14\\...         0   \n",
       "1  ized and existing under and by virtue of the s...         1   \n",
       "2  Copy of the Electronic Original® document mana...         0   \n",
       "3   Governing Law. I understand and agree that Fi...         1   \n",
       "4   the extension of credit set forth in\\nthe Not...         2   \n",
       "\n",
       "                                           file_path    file_name   file_type  \\\n",
       "0  /lfs/guestrin-hgx-1/0/lianapat/law-app/sample_...   page_1.txt  text/plain   \n",
       "1  /lfs/guestrin-hgx-1/0/lianapat/law-app/sample_...   page_1.txt  text/plain   \n",
       "2  /lfs/guestrin-hgx-1/0/lianapat/law-app/sample_...  page_10.txt  text/plain   \n",
       "3  /lfs/guestrin-hgx-1/0/lianapat/law-app/sample_...  page_10.txt  text/plain   \n",
       "4  /lfs/guestrin-hgx-1/0/lianapat/law-app/sample_...  page_10.txt  text/plain   \n",
       "\n",
       "   file_size creation_date last_modified_date  page_label  \n",
       "0       1801    2025-05-12         2025-05-12           1  \n",
       "1       1801    2025-05-12         2025-05-12           1  \n",
       "2       4362    2025-05-12         2025-05-12           1  \n",
       "3       4362    2025-05-12         2025-05-12           1  \n",
       "4       4362    2025-05-12         2025-05-12           1  "
      ]
     },
     "execution_count": 62,
     "metadata": {},
     "output_type": "execute_result"
    }
   ],
   "source": [
    "df.head()"
   ]
  },
  {
   "cell_type": "markdown",
   "metadata": {},
   "source": [
    "## 3) create and load our index"
   ]
  },
  {
   "cell_type": "code",
   "execution_count": 63,
   "metadata": {},
   "outputs": [
    {
     "name": "stderr",
     "output_type": "stream",
     "text": [
      "2025-05-20 22:39:41,888 - WARNING - Do not reset the dataframe index to ensure proper functionality of get_vectors_from_index\n",
      "100%|██████████| 1/1 [00:00<00:00,  2.75it/s]\n"
     ]
    }
   ],
   "source": [
    "# Note: only run this once\n",
    "df = df.sem_index(\"content\", \"data/content_index\")\n",
    "# df = df.load_sem_index(\"content\", \"data/content_index\")"
   ]
  },
  {
   "cell_type": "markdown",
   "metadata": {},
   "source": [
    "## 4) perform simple queries"
   ]
  },
  {
   "cell_type": "code",
   "execution_count": 64,
   "metadata": {},
   "outputs": [],
   "source": [
    "def qa_pipeline(in_df, query, K=7):\n",
    "    evidence_df = in_df.sem_search(\"content\", query, K=K)\n",
    "    res = evidence_df.sem_agg(f\"Given the {{content}} of snippets from a legal document, answer the query.\\nQuery: {query}\")\n",
    "    return res.iloc[0]._output, evidence_df\n"
   ]
  },
  {
   "cell_type": "markdown",
   "metadata": {},
   "source": [
    "### simple search test"
   ]
  },
  {
   "cell_type": "code",
   "execution_count": 65,
   "metadata": {},
   "outputs": [
    {
     "name": "stderr",
     "output_type": "stream",
     "text": [
      "100%|██████████| 1/1 [00:00<00:00,  6.13it/s]\n"
     ]
    },
    {
     "data": {
      "text/html": [
       "<div>\n",
       "<style scoped>\n",
       "    .dataframe tbody tr th:only-of-type {\n",
       "        vertical-align: middle;\n",
       "    }\n",
       "\n",
       "    .dataframe tbody tr th {\n",
       "        vertical-align: top;\n",
       "    }\n",
       "\n",
       "    .dataframe thead th {\n",
       "        text-align: right;\n",
       "    }\n",
       "</style>\n",
       "<table border=\"1\" class=\"dataframe\">\n",
       "  <thead>\n",
       "    <tr style=\"text-align: right;\">\n",
       "      <th></th>\n",
       "      <th>content</th>\n",
       "      <th>chunk_id</th>\n",
       "      <th>file_path</th>\n",
       "      <th>file_name</th>\n",
       "      <th>file_type</th>\n",
       "      <th>file_size</th>\n",
       "      <th>creation_date</th>\n",
       "      <th>last_modified_date</th>\n",
       "      <th>page_label</th>\n",
       "    </tr>\n",
       "  </thead>\n",
       "  <tbody>\n",
       "    <tr>\n",
       "      <th>1</th>\n",
       "      <td>ized and existing under and by virtue of the s...</td>\n",
       "      <td>1</td>\n",
       "      <td>/lfs/guestrin-hgx-1/0/lianapat/law-app/sample_...</td>\n",
       "      <td>page_1.txt</td>\n",
       "      <td>text/plain</td>\n",
       "      <td>1801</td>\n",
       "      <td>2025-05-12</td>\n",
       "      <td>2025-05-12</td>\n",
       "      <td>1</td>\n",
       "    </tr>\n",
       "    <tr>\n",
       "      <th>26</th>\n",
       "      <td>So Oo NN DB WOW BR W NO\\n\\n10\\n11\\n12\\n13\\n14\\...</td>\n",
       "      <td>0</td>\n",
       "      <td>/lfs/guestrin-hgx-1/0/lianapat/law-app/sample_...</td>\n",
       "      <td>page_2.txt</td>\n",
       "      <td>text/plain</td>\n",
       "      <td>2265</td>\n",
       "      <td>2025-05-12</td>\n",
       "      <td>2025-05-12</td>\n",
       "      <td>1</td>\n",
       "    </tr>\n",
       "    <tr>\n",
       "      <th>31</th>\n",
       "      <td>So OO NN DB Wn BR W NO\\n\\n10\\n11\\n12\\n13\\n14\\n...</td>\n",
       "      <td>0</td>\n",
       "      <td>/lfs/guestrin-hgx-1/0/lianapat/law-app/sample_...</td>\n",
       "      <td>page_4.txt</td>\n",
       "      <td>text/plain</td>\n",
       "      <td>831</td>\n",
       "      <td>2025-05-12</td>\n",
       "      <td>2025-05-12</td>\n",
       "      <td>1</td>\n",
       "    </tr>\n",
       "    <tr>\n",
       "      <th>0</th>\n",
       "      <td>So Oo NN DB WOW BR W NO\\n\\n10\\n11\\n12\\n13\\n14\\...</td>\n",
       "      <td>0</td>\n",
       "      <td>/lfs/guestrin-hgx-1/0/lianapat/law-app/sample_...</td>\n",
       "      <td>page_1.txt</td>\n",
       "      <td>text/plain</td>\n",
       "      <td>1801</td>\n",
       "      <td>2025-05-12</td>\n",
       "      <td>2025-05-12</td>\n",
       "      <td>1</td>\n",
       "    </tr>\n",
       "    <tr>\n",
       "      <th>28</th>\n",
       "      <td>make payments, causing\\ndamages set forth here...</td>\n",
       "      <td>2</td>\n",
       "      <td>/lfs/guestrin-hgx-1/0/lianapat/law-app/sample_...</td>\n",
       "      <td>page_2.txt</td>\n",
       "      <td>text/plain</td>\n",
       "      <td>2265</td>\n",
       "      <td>2025-05-12</td>\n",
       "      <td>2025-05-12</td>\n",
       "      <td>1</td>\n",
       "    </tr>\n",
       "  </tbody>\n",
       "</table>\n",
       "</div>"
      ],
      "text/plain": [
       "                                              content  chunk_id  \\\n",
       "1   ized and existing under and by virtue of the s...         1   \n",
       "26  So Oo NN DB WOW BR W NO\\n\\n10\\n11\\n12\\n13\\n14\\...         0   \n",
       "31  So OO NN DB Wn BR W NO\\n\\n10\\n11\\n12\\n13\\n14\\n...         0   \n",
       "0   So Oo NN DB WOW BR W NO\\n\\n10\\n11\\n12\\n13\\n14\\...         0   \n",
       "28  make payments, causing\\ndamages set forth here...         2   \n",
       "\n",
       "                                            file_path   file_name   file_type  \\\n",
       "1   /lfs/guestrin-hgx-1/0/lianapat/law-app/sample_...  page_1.txt  text/plain   \n",
       "26  /lfs/guestrin-hgx-1/0/lianapat/law-app/sample_...  page_2.txt  text/plain   \n",
       "31  /lfs/guestrin-hgx-1/0/lianapat/law-app/sample_...  page_4.txt  text/plain   \n",
       "0   /lfs/guestrin-hgx-1/0/lianapat/law-app/sample_...  page_1.txt  text/plain   \n",
       "28  /lfs/guestrin-hgx-1/0/lianapat/law-app/sample_...  page_2.txt  text/plain   \n",
       "\n",
       "    file_size creation_date last_modified_date  page_label  \n",
       "1        1801    2025-05-12         2025-05-12           1  \n",
       "26       2265    2025-05-12         2025-05-12           1  \n",
       "31        831    2025-05-12         2025-05-12           1  \n",
       "0        1801    2025-05-12         2025-05-12           1  \n",
       "28       2265    2025-05-12         2025-05-12           1  "
      ]
     },
     "execution_count": 65,
     "metadata": {},
     "output_type": "execute_result"
    }
   ],
   "source": [
    "df.sem_search(\"content\", \"plaintiff\", K=5)"
   ]
  },
  {
   "cell_type": "markdown",
   "metadata": {},
   "source": [
    "### test query 1"
   ]
  },
  {
   "cell_type": "code",
   "execution_count": 69,
   "metadata": {},
   "outputs": [
    {
     "name": "stderr",
     "output_type": "stream",
     "text": [
      "100%|██████████| 1/1 [00:00<00:00,  7.81it/s]\n",
      "Aggregating: 100%|██████████ 1/1 LM calls [00:02<00:00,  2.43s/it]"
     ]
    },
    {
     "name": "stdout",
     "output_type": "stream",
     "text": [
      "Yes, the plaintiff, Velocity Investments LLC, is a debt buyer and the sole owner of the account in question.\n"
     ]
    },
    {
     "name": "stderr",
     "output_type": "stream",
     "text": [
      "\n"
     ]
    },
    {
     "data": {
      "text/html": [
       "<div>\n",
       "<style scoped>\n",
       "    .dataframe tbody tr th:only-of-type {\n",
       "        vertical-align: middle;\n",
       "    }\n",
       "\n",
       "    .dataframe tbody tr th {\n",
       "        vertical-align: top;\n",
       "    }\n",
       "\n",
       "    .dataframe thead th {\n",
       "        text-align: right;\n",
       "    }\n",
       "</style>\n",
       "<table border=\"1\" class=\"dataframe\">\n",
       "  <thead>\n",
       "    <tr style=\"text-align: right;\">\n",
       "      <th></th>\n",
       "      <th>content</th>\n",
       "      <th>chunk_id</th>\n",
       "      <th>file_path</th>\n",
       "      <th>file_name</th>\n",
       "      <th>file_type</th>\n",
       "      <th>file_size</th>\n",
       "      <th>creation_date</th>\n",
       "      <th>last_modified_date</th>\n",
       "      <th>page_label</th>\n",
       "    </tr>\n",
       "  </thead>\n",
       "  <tbody>\n",
       "    <tr>\n",
       "      <th>26</th>\n",
       "      <td>So Oo NN DB WOW BR W NO\\n\\n10\\n11\\n12\\n13\\n14\\...</td>\n",
       "      <td>0</td>\n",
       "      <td>/lfs/guestrin-hgx-1/0/lianapat/law-app/sample_...</td>\n",
       "      <td>page_2.txt</td>\n",
       "      <td>text/plain</td>\n",
       "      <td>2265</td>\n",
       "      <td>2025-05-12</td>\n",
       "      <td>2025-05-12</td>\n",
       "      <td>1</td>\n",
       "    </tr>\n",
       "    <tr>\n",
       "      <th>1</th>\n",
       "      <td>ized and existing under and by virtue of the s...</td>\n",
       "      <td>1</td>\n",
       "      <td>/lfs/guestrin-hgx-1/0/lianapat/law-app/sample_...</td>\n",
       "      <td>page_1.txt</td>\n",
       "      <td>text/plain</td>\n",
       "      <td>1801</td>\n",
       "      <td>2025-05-12</td>\n",
       "      <td>2025-05-12</td>\n",
       "      <td>1</td>\n",
       "    </tr>\n",
       "    <tr>\n",
       "      <th>31</th>\n",
       "      <td>So OO NN DB Wn BR W NO\\n\\n10\\n11\\n12\\n13\\n14\\n...</td>\n",
       "      <td>0</td>\n",
       "      <td>/lfs/guestrin-hgx-1/0/lianapat/law-app/sample_...</td>\n",
       "      <td>page_4.txt</td>\n",
       "      <td>text/plain</td>\n",
       "      <td>831</td>\n",
       "      <td>2025-05-12</td>\n",
       "      <td>2025-05-12</td>\n",
       "      <td>1</td>\n",
       "    </tr>\n",
       "    <tr>\n",
       "      <th>27</th>\n",
       "      <td>SUED BY FINWISE BANK\\nSERVICED BY UPSTART NETW...</td>\n",
       "      <td>1</td>\n",
       "      <td>/lfs/guestrin-hgx-1/0/lianapat/law-app/sample_...</td>\n",
       "      <td>page_2.txt</td>\n",
       "      <td>text/plain</td>\n",
       "      <td>2265</td>\n",
       "      <td>2025-05-12</td>\n",
       "      <td>2025-05-12</td>\n",
       "      <td>1</td>\n",
       "    </tr>\n",
       "    <tr>\n",
       "      <th>0</th>\n",
       "      <td>So Oo NN DB WOW BR W NO\\n\\n10\\n11\\n12\\n13\\n14\\...</td>\n",
       "      <td>0</td>\n",
       "      <td>/lfs/guestrin-hgx-1/0/lianapat/law-app/sample_...</td>\n",
       "      <td>page_1.txt</td>\n",
       "      <td>text/plain</td>\n",
       "      <td>1801</td>\n",
       "      <td>2025-05-12</td>\n",
       "      <td>2025-05-12</td>\n",
       "      <td>1</td>\n",
       "    </tr>\n",
       "  </tbody>\n",
       "</table>\n",
       "</div>"
      ],
      "text/plain": [
       "                                              content  chunk_id  \\\n",
       "26  So Oo NN DB WOW BR W NO\\n\\n10\\n11\\n12\\n13\\n14\\...         0   \n",
       "1   ized and existing under and by virtue of the s...         1   \n",
       "31  So OO NN DB Wn BR W NO\\n\\n10\\n11\\n12\\n13\\n14\\n...         0   \n",
       "27  SUED BY FINWISE BANK\\nSERVICED BY UPSTART NETW...         1   \n",
       "0   So Oo NN DB WOW BR W NO\\n\\n10\\n11\\n12\\n13\\n14\\...         0   \n",
       "\n",
       "                                            file_path   file_name   file_type  \\\n",
       "26  /lfs/guestrin-hgx-1/0/lianapat/law-app/sample_...  page_2.txt  text/plain   \n",
       "1   /lfs/guestrin-hgx-1/0/lianapat/law-app/sample_...  page_1.txt  text/plain   \n",
       "31  /lfs/guestrin-hgx-1/0/lianapat/law-app/sample_...  page_4.txt  text/plain   \n",
       "27  /lfs/guestrin-hgx-1/0/lianapat/law-app/sample_...  page_2.txt  text/plain   \n",
       "0   /lfs/guestrin-hgx-1/0/lianapat/law-app/sample_...  page_1.txt  text/plain   \n",
       "\n",
       "    file_size creation_date last_modified_date  page_label  \n",
       "26       2265    2025-05-12         2025-05-12           1  \n",
       "1        1801    2025-05-12         2025-05-12           1  \n",
       "31        831    2025-05-12         2025-05-12           1  \n",
       "27       2265    2025-05-12         2025-05-12           1  \n",
       "0        1801    2025-05-12         2025-05-12           1  "
      ]
     },
     "execution_count": 69,
     "metadata": {},
     "output_type": "execute_result"
    }
   ],
   "source": [
    "query = \"Is the plaintiff a debt buyer?\"\n",
    "ans, evidence_df = qa_pipeline(df, query)\n",
    "print(ans)\n",
    "evidence_df.head()"
   ]
  },
  {
   "cell_type": "markdown",
   "metadata": {},
   "source": [
    "### test query 2"
   ]
  },
  {
   "cell_type": "code",
   "execution_count": 68,
   "metadata": {},
   "outputs": [
    {
     "name": "stderr",
     "output_type": "stream",
     "text": [
      "100%|██████████| 1/1 [00:00<00:00,  3.93it/s]\n",
      "Aggregating: 100%|██████████ 1/1 LM calls [00:01<00:00,  1.30s/it]"
     ]
    },
    {
     "name": "stdout",
     "output_type": "stream",
     "text": [
      "The defendant in this case is Paul Fernandez.\n"
     ]
    },
    {
     "name": "stderr",
     "output_type": "stream",
     "text": [
      "\n"
     ]
    },
    {
     "data": {
      "text/html": [
       "<div>\n",
       "<style scoped>\n",
       "    .dataframe tbody tr th:only-of-type {\n",
       "        vertical-align: middle;\n",
       "    }\n",
       "\n",
       "    .dataframe tbody tr th {\n",
       "        vertical-align: top;\n",
       "    }\n",
       "\n",
       "    .dataframe thead th {\n",
       "        text-align: right;\n",
       "    }\n",
       "</style>\n",
       "<table border=\"1\" class=\"dataframe\">\n",
       "  <thead>\n",
       "    <tr style=\"text-align: right;\">\n",
       "      <th></th>\n",
       "      <th>content</th>\n",
       "      <th>chunk_id</th>\n",
       "      <th>file_path</th>\n",
       "      <th>file_name</th>\n",
       "      <th>file_type</th>\n",
       "      <th>file_size</th>\n",
       "      <th>creation_date</th>\n",
       "      <th>last_modified_date</th>\n",
       "      <th>page_label</th>\n",
       "    </tr>\n",
       "  </thead>\n",
       "  <tbody>\n",
       "    <tr>\n",
       "      <th>26</th>\n",
       "      <td>So Oo NN DB WOW BR W NO\\n\\n10\\n11\\n12\\n13\\n14\\...</td>\n",
       "      <td>0</td>\n",
       "      <td>/lfs/guestrin-hgx-1/0/lianapat/law-app/sample_...</td>\n",
       "      <td>page_2.txt</td>\n",
       "      <td>text/plain</td>\n",
       "      <td>2265</td>\n",
       "      <td>2025-05-12</td>\n",
       "      <td>2025-05-12</td>\n",
       "      <td>1</td>\n",
       "    </tr>\n",
       "    <tr>\n",
       "      <th>1</th>\n",
       "      <td>ized and existing under and by virtue of the s...</td>\n",
       "      <td>1</td>\n",
       "      <td>/lfs/guestrin-hgx-1/0/lianapat/law-app/sample_...</td>\n",
       "      <td>page_1.txt</td>\n",
       "      <td>text/plain</td>\n",
       "      <td>1801</td>\n",
       "      <td>2025-05-12</td>\n",
       "      <td>2025-05-12</td>\n",
       "      <td>1</td>\n",
       "    </tr>\n",
       "    <tr>\n",
       "      <th>0</th>\n",
       "      <td>So Oo NN DB WOW BR W NO\\n\\n10\\n11\\n12\\n13\\n14\\...</td>\n",
       "      <td>0</td>\n",
       "      <td>/lfs/guestrin-hgx-1/0/lianapat/law-app/sample_...</td>\n",
       "      <td>page_1.txt</td>\n",
       "      <td>text/plain</td>\n",
       "      <td>1801</td>\n",
       "      <td>2025-05-12</td>\n",
       "      <td>2025-05-12</td>\n",
       "      <td>1</td>\n",
       "    </tr>\n",
       "    <tr>\n",
       "      <th>31</th>\n",
       "      <td>So OO NN DB Wn BR W NO\\n\\n10\\n11\\n12\\n13\\n14\\n...</td>\n",
       "      <td>0</td>\n",
       "      <td>/lfs/guestrin-hgx-1/0/lianapat/law-app/sample_...</td>\n",
       "      <td>page_4.txt</td>\n",
       "      <td>text/plain</td>\n",
       "      <td>831</td>\n",
       "      <td>2025-05-12</td>\n",
       "      <td>2025-05-12</td>\n",
       "      <td>1</td>\n",
       "    </tr>\n",
       "    <tr>\n",
       "      <th>29</th>\n",
       "      <td>So Oo NN DB WOW BR W NO\\n\\n10\\n11\\n12\\n13\\n14\\...</td>\n",
       "      <td>0</td>\n",
       "      <td>/lfs/guestrin-hgx-1/0/lianapat/law-app/sample_...</td>\n",
       "      <td>page_3.txt</td>\n",
       "      <td>text/plain</td>\n",
       "      <td>1434</td>\n",
       "      <td>2025-05-12</td>\n",
       "      <td>2025-05-12</td>\n",
       "      <td>1</td>\n",
       "    </tr>\n",
       "  </tbody>\n",
       "</table>\n",
       "</div>"
      ],
      "text/plain": [
       "                                              content  chunk_id  \\\n",
       "26  So Oo NN DB WOW BR W NO\\n\\n10\\n11\\n12\\n13\\n14\\...         0   \n",
       "1   ized and existing under and by virtue of the s...         1   \n",
       "0   So Oo NN DB WOW BR W NO\\n\\n10\\n11\\n12\\n13\\n14\\...         0   \n",
       "31  So OO NN DB Wn BR W NO\\n\\n10\\n11\\n12\\n13\\n14\\n...         0   \n",
       "29  So Oo NN DB WOW BR W NO\\n\\n10\\n11\\n12\\n13\\n14\\...         0   \n",
       "\n",
       "                                            file_path   file_name   file_type  \\\n",
       "26  /lfs/guestrin-hgx-1/0/lianapat/law-app/sample_...  page_2.txt  text/plain   \n",
       "1   /lfs/guestrin-hgx-1/0/lianapat/law-app/sample_...  page_1.txt  text/plain   \n",
       "0   /lfs/guestrin-hgx-1/0/lianapat/law-app/sample_...  page_1.txt  text/plain   \n",
       "31  /lfs/guestrin-hgx-1/0/lianapat/law-app/sample_...  page_4.txt  text/plain   \n",
       "29  /lfs/guestrin-hgx-1/0/lianapat/law-app/sample_...  page_3.txt  text/plain   \n",
       "\n",
       "    file_size creation_date last_modified_date  page_label  \n",
       "26       2265    2025-05-12         2025-05-12           1  \n",
       "1        1801    2025-05-12         2025-05-12           1  \n",
       "0        1801    2025-05-12         2025-05-12           1  \n",
       "31        831    2025-05-12         2025-05-12           1  \n",
       "29       1434    2025-05-12         2025-05-12           1  "
      ]
     },
     "execution_count": 68,
     "metadata": {},
     "output_type": "execute_result"
    }
   ],
   "source": [
    "query = \"Who is the defendant?\"\n",
    "ans, evidence_df = qa_pipeline(df, query)\n",
    "print(ans)\n",
    "evidence_df.head()"
   ]
  },
  {
   "cell_type": "code",
   "execution_count": null,
   "metadata": {},
   "outputs": [],
   "source": []
  }
 ],
 "metadata": {
  "kernelspec": {
   "display_name": ".venv",
   "language": "python",
   "name": "python3"
  },
  "language_info": {
   "codemirror_mode": {
    "name": "ipython",
    "version": 3
   },
   "file_extension": ".py",
   "mimetype": "text/x-python",
   "name": "python",
   "nbconvert_exporter": "python",
   "pygments_lexer": "ipython3",
   "version": "3.10.16"
  }
 },
 "nbformat": 4,
 "nbformat_minor": 2
}
