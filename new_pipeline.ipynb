{
 "cells": [
  {
   "cell_type": "code",
   "execution_count": 61,
   "metadata": {},
   "outputs": [],
   "source": [
    "import pathlib\n",
    "\n",
    "import lotus\n",
    "from lotus.file_extractors import DirectoryReader\n",
    "from lotus.models import LM, LiteLLMRM\n",
    "from lotus.vector_store import FaissVS\n",
    "import os"
   ]
  },
  {
   "cell_type": "markdown",
   "metadata": {},
   "source": [
    "## 1) set model configs"
   ]
  },
  {
   "cell_type": "code",
   "execution_count": 59,
   "metadata": {},
   "outputs": [],
   "source": [
    "lm = LM(\"gpt-4o-mini\", temperature=0.0)\n",
    "rm = LiteLLMRM(model=\"text-embedding-3-small\")\n",
    "vs = FaissVS()\n",
    "lotus.settings.configure(lm=lm, rm=rm, vs=vs)"
   ]
  },
  {
   "cell_type": "markdown",
   "metadata": {},
   "source": [
    "#### add api key here"
   ]
  },
  {
   "cell_type": "code",
   "execution_count": 107,
   "metadata": {},
   "outputs": [
    {
     "name": "stdout",
     "output_type": "stream",
     "text": [
      "env: OPENAI_API_KEY=sk-\n"
     ]
    }
   ],
   "source": [
    "%set_env OPENAI_API_KEY=sk-"
   ]
  },
  {
   "cell_type": "markdown",
   "metadata": {},
   "source": [
    "## 2) load data\n"
   ]
  },
  {
   "cell_type": "code",
   "execution_count": 100,
   "metadata": {},
   "outputs": [],
   "source": [
    "# laod the data from code/ocr_pages\n",
    "pdf_path = \"data/ocr_pages\"\n",
    "df = DirectoryReader().add(pdf_path).to_df(per_page=True)"
   ]
  },
  {
   "cell_type": "code",
   "execution_count": 101,
   "metadata": {},
   "outputs": [
    {
     "data": {
      "text/html": [
       "<div>\n",
       "<style scoped>\n",
       "    .dataframe tbody tr th:only-of-type {\n",
       "        vertical-align: middle;\n",
       "    }\n",
       "\n",
       "    .dataframe tbody tr th {\n",
       "        vertical-align: top;\n",
       "    }\n",
       "\n",
       "    .dataframe thead th {\n",
       "        text-align: right;\n",
       "    }\n",
       "</style>\n",
       "<table border=\"1\" class=\"dataframe\">\n",
       "  <thead>\n",
       "    <tr style=\"text-align: right;\">\n",
       "      <th></th>\n",
       "      <th>content</th>\n",
       "      <th>file_path</th>\n",
       "      <th>file_name</th>\n",
       "      <th>file_type</th>\n",
       "      <th>file_size</th>\n",
       "      <th>creation_date</th>\n",
       "      <th>last_modified_date</th>\n",
       "      <th>page_label</th>\n",
       "    </tr>\n",
       "  </thead>\n",
       "  <tbody>\n",
       "    <tr>\n",
       "      <th>0</th>\n",
       "      <td>So Oo NN DB WOW BR W NO\\n\\n10\\n11\\n12\\n13\\n14\\...</td>\n",
       "      <td>/lfs/guestrin-hgx-1/0/lianapat/law-app/sample_...</td>\n",
       "      <td>page_1.txt</td>\n",
       "      <td>text/plain</td>\n",
       "      <td>1801</td>\n",
       "      <td>2025-05-12</td>\n",
       "      <td>2025-05-12</td>\n",
       "      <td>1</td>\n",
       "    </tr>\n",
       "    <tr>\n",
       "      <th>1</th>\n",
       "      <td>Copy of the Electronic Original® document mana...</td>\n",
       "      <td>/lfs/guestrin-hgx-1/0/lianapat/law-app/sample_...</td>\n",
       "      <td>page_10.txt</td>\n",
       "      <td>text/plain</td>\n",
       "      <td>4362</td>\n",
       "      <td>2025-05-12</td>\n",
       "      <td>2025-05-12</td>\n",
       "      <td>1</td>\n",
       "    </tr>\n",
       "    <tr>\n",
       "      <th>2</th>\n",
       "      <td>; Copy of the Electronic Original® document ma...</td>\n",
       "      <td>/lfs/guestrin-hgx-1/0/lianapat/law-app/sample_...</td>\n",
       "      <td>page_11.txt</td>\n",
       "      <td>text/plain</td>\n",
       "      <td>4615</td>\n",
       "      <td>2025-05-12</td>\n",
       "      <td>2025-05-12</td>\n",
       "      <td>1</td>\n",
       "    </tr>\n",
       "    <tr>\n",
       "      <th>3</th>\n",
       "      <td>Copy of the Electronic Original® document mana...</td>\n",
       "      <td>/lfs/guestrin-hgx-1/0/lianapat/law-app/sample_...</td>\n",
       "      <td>page_12.txt</td>\n",
       "      <td>text/plain</td>\n",
       "      <td>3628</td>\n",
       "      <td>2025-05-12</td>\n",
       "      <td>2025-05-12</td>\n",
       "      <td>1</td>\n",
       "    </tr>\n",
       "    <tr>\n",
       "      <th>4</th>\n",
       "      <td>; Copy of the Electronic Original® document ma...</td>\n",
       "      <td>/lfs/guestrin-hgx-1/0/lianapat/law-app/sample_...</td>\n",
       "      <td>page_13.txt</td>\n",
       "      <td>text/plain</td>\n",
       "      <td>3430</td>\n",
       "      <td>2025-05-12</td>\n",
       "      <td>2025-05-12</td>\n",
       "      <td>1</td>\n",
       "    </tr>\n",
       "  </tbody>\n",
       "</table>\n",
       "</div>"
      ],
      "text/plain": [
       "                                             content  \\\n",
       "0  So Oo NN DB WOW BR W NO\\n\\n10\\n11\\n12\\n13\\n14\\...   \n",
       "1  Copy of the Electronic Original® document mana...   \n",
       "2  ; Copy of the Electronic Original® document ma...   \n",
       "3  Copy of the Electronic Original® document mana...   \n",
       "4  ; Copy of the Electronic Original® document ma...   \n",
       "\n",
       "                                           file_path    file_name   file_type  \\\n",
       "0  /lfs/guestrin-hgx-1/0/lianapat/law-app/sample_...   page_1.txt  text/plain   \n",
       "1  /lfs/guestrin-hgx-1/0/lianapat/law-app/sample_...  page_10.txt  text/plain   \n",
       "2  /lfs/guestrin-hgx-1/0/lianapat/law-app/sample_...  page_11.txt  text/plain   \n",
       "3  /lfs/guestrin-hgx-1/0/lianapat/law-app/sample_...  page_12.txt  text/plain   \n",
       "4  /lfs/guestrin-hgx-1/0/lianapat/law-app/sample_...  page_13.txt  text/plain   \n",
       "\n",
       "   file_size creation_date last_modified_date  page_label  \n",
       "0       1801    2025-05-12         2025-05-12           1  \n",
       "1       4362    2025-05-12         2025-05-12           1  \n",
       "2       4615    2025-05-12         2025-05-12           1  \n",
       "3       3628    2025-05-12         2025-05-12           1  \n",
       "4       3430    2025-05-12         2025-05-12           1  "
      ]
     },
     "execution_count": 101,
     "metadata": {},
     "output_type": "execute_result"
    }
   ],
   "source": [
    "df.head()"
   ]
  },
  {
   "cell_type": "code",
   "execution_count": 68,
   "metadata": {},
   "outputs": [
    {
     "name": "stdout",
     "output_type": "stream",
     "text": [
      "LIFORNIA COUNTY OF\n",
      "LOS ANGELES, NORTH VALLEY JUDICIAL DISTRICT\n",
      "\n",
      "CHATSWORTH COURTHOUSE\n",
      "\n",
      "VELOCITY INVESTMENTS LLC, CASENO. 2 30>HLOl18998\n",
      "\n",
      "Plaintiff, COMPLAINT FOR MONEY\n",
      "1. Account Stated\n",
      "\n",
      "2. Open Book \n"
     ]
    }
   ],
   "source": [
    "# preview the data\n",
    "print(df.iloc[0].content[500:700])"
   ]
  },
  {
   "cell_type": "markdown",
   "metadata": {},
   "source": [
    "## 3) create and load our index"
   ]
  },
  {
   "cell_type": "code",
   "execution_count": 102,
   "metadata": {},
   "outputs": [],
   "source": [
    "# Note: only run this once\n",
    "# df = df.sem_index(\"content\", \"data/content_index\")\n",
    "df = df.load_sem_index(\"content\", \"data/content_index\")"
   ]
  },
  {
   "cell_type": "markdown",
   "metadata": {},
   "source": [
    "## 4) perform simple queries"
   ]
  },
  {
   "cell_type": "code",
   "execution_count": 103,
   "metadata": {},
   "outputs": [],
   "source": [
    "def qa_pipeline(df, query, K=3):\n",
    "    evidence_df = df.sem_search(\"content\", query, K=K)\n",
    "    res = evidence_df.sem_agg(f\"Answer the query based on the {{content}}.\\nQuery: {query}\")\n",
    "    return res.iloc[0]._output, evidence_df\n"
   ]
  },
  {
   "cell_type": "markdown",
   "metadata": {},
   "source": [
    "### test query 1"
   ]
  },
  {
   "cell_type": "code",
   "execution_count": 106,
   "metadata": {},
   "outputs": [
    {
     "name": "stderr",
     "output_type": "stream",
     "text": [
      "100%|██████████| 1/1 [00:00<00:00,  3.48it/s]\n",
      "Aggregating: 100%|██████████ 1/1 LM calls [00:02<00:00,  2.02s/it]"
     ]
    },
    {
     "name": "stdout",
     "output_type": "stream",
     "text": [
      "The plaintiff is not a debt buyer; rather, they are the original creditor or a representative of the original creditor. The documents indicate that the charge-off creditor was MPLI Capital Holdings, issued by FinWise Bank and serviced by Upstart Network, Inc. The debt was later sold to Velocity Investments, LLC, which is identified as the entity that purchased or was assigned the debt after charge-off. Therefore, the plaintiff is pursuing the case based on the original debt rather than as a debt buyer.\n"
     ]
    },
    {
     "name": "stderr",
     "output_type": "stream",
     "text": [
      "\n"
     ]
    },
    {
     "data": {
      "text/html": [
       "<div>\n",
       "<style scoped>\n",
       "    .dataframe tbody tr th:only-of-type {\n",
       "        vertical-align: middle;\n",
       "    }\n",
       "\n",
       "    .dataframe tbody tr th {\n",
       "        vertical-align: top;\n",
       "    }\n",
       "\n",
       "    .dataframe thead th {\n",
       "        text-align: right;\n",
       "    }\n",
       "</style>\n",
       "<table border=\"1\" class=\"dataframe\">\n",
       "  <thead>\n",
       "    <tr style=\"text-align: right;\">\n",
       "      <th></th>\n",
       "      <th>content</th>\n",
       "      <th>file_path</th>\n",
       "      <th>file_name</th>\n",
       "      <th>file_type</th>\n",
       "      <th>file_size</th>\n",
       "      <th>creation_date</th>\n",
       "      <th>last_modified_date</th>\n",
       "      <th>page_label</th>\n",
       "    </tr>\n",
       "  </thead>\n",
       "  <tbody>\n",
       "    <tr>\n",
       "      <th>7</th>\n",
       "      <td>DocuSign Envelope ID: AFSEBOAD-E0F2-462E-8EC7-...</td>\n",
       "      <td>/lfs/guestrin-hgx-1/0/lianapat/law-app/sample_...</td>\n",
       "      <td>page_16.txt</td>\n",
       "      <td>text/plain</td>\n",
       "      <td>1767</td>\n",
       "      <td>2025-05-12</td>\n",
       "      <td>2025-05-12</td>\n",
       "      <td>1</td>\n",
       "    </tr>\n",
       "    <tr>\n",
       "      <th>9</th>\n",
       "      <td>So Oo NN DB WOW BR W NO\\n\\n10\\n11\\n12\\n13\\n14\\...</td>\n",
       "      <td>/lfs/guestrin-hgx-1/0/lianapat/law-app/sample_...</td>\n",
       "      <td>page_2.txt</td>\n",
       "      <td>text/plain</td>\n",
       "      <td>2265</td>\n",
       "      <td>2025-05-12</td>\n",
       "      <td>2025-05-12</td>\n",
       "      <td>1</td>\n",
       "    </tr>\n",
       "    <tr>\n",
       "      <th>13</th>\n",
       "      <td>Copy of the Electronic Original® document mana...</td>\n",
       "      <td>/lfs/guestrin-hgx-1/0/lianapat/law-app/sample_...</td>\n",
       "      <td>page_6.txt</td>\n",
       "      <td>text/plain</td>\n",
       "      <td>2185</td>\n",
       "      <td>2025-05-12</td>\n",
       "      <td>2025-05-12</td>\n",
       "      <td>1</td>\n",
       "    </tr>\n",
       "  </tbody>\n",
       "</table>\n",
       "</div>"
      ],
      "text/plain": [
       "                                              content  \\\n",
       "7   DocuSign Envelope ID: AFSEBOAD-E0F2-462E-8EC7-...   \n",
       "9   So Oo NN DB WOW BR W NO\\n\\n10\\n11\\n12\\n13\\n14\\...   \n",
       "13  Copy of the Electronic Original® document mana...   \n",
       "\n",
       "                                            file_path    file_name  \\\n",
       "7   /lfs/guestrin-hgx-1/0/lianapat/law-app/sample_...  page_16.txt   \n",
       "9   /lfs/guestrin-hgx-1/0/lianapat/law-app/sample_...   page_2.txt   \n",
       "13  /lfs/guestrin-hgx-1/0/lianapat/law-app/sample_...   page_6.txt   \n",
       "\n",
       "     file_type  file_size creation_date last_modified_date  page_label  \n",
       "7   text/plain       1767    2025-05-12         2025-05-12           1  \n",
       "9   text/plain       2265    2025-05-12         2025-05-12           1  \n",
       "13  text/plain       2185    2025-05-12         2025-05-12           1  "
      ]
     },
     "execution_count": 106,
     "metadata": {},
     "output_type": "execute_result"
    }
   ],
   "source": [
    "query = \"Is the plaintiff a debt buyer?\"\n",
    "ans, evidence_df = qa_pipeline(df, query)\n",
    "print(ans)\n",
    "evidence_df.head()"
   ]
  },
  {
   "cell_type": "markdown",
   "metadata": {},
   "source": [
    "### test query 2"
   ]
  },
  {
   "cell_type": "code",
   "execution_count": 92,
   "metadata": {},
   "outputs": [
    {
     "name": "stderr",
     "output_type": "stream",
     "text": [
      "100%|██████████| 1/1 [00:01<00:00,  1.33s/it]\n",
      "Aggregating: 100%|██████████ 1/1 LM calls [00:01<00:00,  1.26s/it]"
     ]
    },
    {
     "name": "stdout",
     "output_type": "stream",
     "text": [
      "The defendant in the complaint is identified as \"Defendant(s),\" specifically named as Paul Fernandez, who resides at 216 W Markland Dr, Monterey Park, CA 91754.\n"
     ]
    },
    {
     "name": "stderr",
     "output_type": "stream",
     "text": [
      "\n"
     ]
    },
    {
     "data": {
      "text/html": [
       "<div>\n",
       "<style scoped>\n",
       "    .dataframe tbody tr th:only-of-type {\n",
       "        vertical-align: middle;\n",
       "    }\n",
       "\n",
       "    .dataframe tbody tr th {\n",
       "        vertical-align: top;\n",
       "    }\n",
       "\n",
       "    .dataframe thead th {\n",
       "        text-align: right;\n",
       "    }\n",
       "</style>\n",
       "<table border=\"1\" class=\"dataframe\">\n",
       "  <thead>\n",
       "    <tr style=\"text-align: right;\">\n",
       "      <th></th>\n",
       "      <th>content</th>\n",
       "      <th>file_path</th>\n",
       "      <th>file_name</th>\n",
       "      <th>file_type</th>\n",
       "      <th>file_size</th>\n",
       "      <th>creation_date</th>\n",
       "      <th>last_modified_date</th>\n",
       "      <th>page_label</th>\n",
       "      <th>len</th>\n",
       "    </tr>\n",
       "  </thead>\n",
       "  <tbody>\n",
       "    <tr>\n",
       "      <th>7</th>\n",
       "      <td>DocuSign Envelope ID: AFSEBOAD-E0F2-462E-8EC7-...</td>\n",
       "      <td>/lfs/guestrin-hgx-1/0/lianapat/law-app/sample_...</td>\n",
       "      <td>page_16.txt</td>\n",
       "      <td>text/plain</td>\n",
       "      <td>1767</td>\n",
       "      <td>2025-05-12</td>\n",
       "      <td>2025-05-12</td>\n",
       "      <td>1</td>\n",
       "      <td>1739</td>\n",
       "    </tr>\n",
       "    <tr>\n",
       "      <th>9</th>\n",
       "      <td>So Oo NN DB WOW BR W NO\\n\\n10\\n11\\n12\\n13\\n14\\...</td>\n",
       "      <td>/lfs/guestrin-hgx-1/0/lianapat/law-app/sample_...</td>\n",
       "      <td>page_2.txt</td>\n",
       "      <td>text/plain</td>\n",
       "      <td>2265</td>\n",
       "      <td>2025-05-12</td>\n",
       "      <td>2025-05-12</td>\n",
       "      <td>1</td>\n",
       "      <td>2260</td>\n",
       "    </tr>\n",
       "    <tr>\n",
       "      <th>13</th>\n",
       "      <td>Copy of the Electronic Original® document mana...</td>\n",
       "      <td>/lfs/guestrin-hgx-1/0/lianapat/law-app/sample_...</td>\n",
       "      <td>page_6.txt</td>\n",
       "      <td>text/plain</td>\n",
       "      <td>2185</td>\n",
       "      <td>2025-05-12</td>\n",
       "      <td>2025-05-12</td>\n",
       "      <td>1</td>\n",
       "      <td>2176</td>\n",
       "    </tr>\n",
       "  </tbody>\n",
       "</table>\n",
       "</div>"
      ],
      "text/plain": [
       "                                              content  \\\n",
       "7   DocuSign Envelope ID: AFSEBOAD-E0F2-462E-8EC7-...   \n",
       "9   So Oo NN DB WOW BR W NO\\n\\n10\\n11\\n12\\n13\\n14\\...   \n",
       "13  Copy of the Electronic Original® document mana...   \n",
       "\n",
       "                                            file_path    file_name  \\\n",
       "7   /lfs/guestrin-hgx-1/0/lianapat/law-app/sample_...  page_16.txt   \n",
       "9   /lfs/guestrin-hgx-1/0/lianapat/law-app/sample_...   page_2.txt   \n",
       "13  /lfs/guestrin-hgx-1/0/lianapat/law-app/sample_...   page_6.txt   \n",
       "\n",
       "     file_type  file_size creation_date last_modified_date  page_label   len  \n",
       "7   text/plain       1767    2025-05-12         2025-05-12           1  1739  \n",
       "9   text/plain       2265    2025-05-12         2025-05-12           1  2260  \n",
       "13  text/plain       2185    2025-05-12         2025-05-12           1  2176  "
      ]
     },
     "execution_count": 92,
     "metadata": {},
     "output_type": "execute_result"
    }
   ],
   "source": [
    "query = \"Who is the defendant?\"\n",
    "ans, evidence_df = qa_pipeline(df, query)\n",
    "print(ans)\n",
    "evidence_df.head()"
   ]
  },
  {
   "cell_type": "code",
   "execution_count": null,
   "metadata": {},
   "outputs": [],
   "source": []
  }
 ],
 "metadata": {
  "kernelspec": {
   "display_name": ".venv",
   "language": "python",
   "name": "python3"
  },
  "language_info": {
   "codemirror_mode": {
    "name": "ipython",
    "version": 3
   },
   "file_extension": ".py",
   "mimetype": "text/x-python",
   "name": "python",
   "nbconvert_exporter": "python",
   "pygments_lexer": "ipython3",
   "version": "3.10.16"
  }
 },
 "nbformat": 4,
 "nbformat_minor": 2
}
