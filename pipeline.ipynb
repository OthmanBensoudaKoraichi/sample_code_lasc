{
 "cells": [
  {
   "cell_type": "markdown",
   "metadata": {},
   "source": [
    "# Read PDF"
   ]
  },
  {
   "cell_type": "code",
   "execution_count": 6,
   "metadata": {},
   "outputs": [],
   "source": [
    "from pdf2image import convert_from_path\n",
    "import pytesseract\n",
    "from PIL import Image\n",
    "import os\n",
    "from tqdm import tqdm\n",
    "\n",
    "def ocr_pdf_to_txt_per_page(pdf_path, output_dir=\"ocr_pages\", dpi=300):\n",
    "    \"\"\"\n",
    "    Converts a PDF to individual text files (one per page) using OCR.\n",
    "    \n",
    "    Args:\n",
    "        pdf_path (str): Path to the input PDF.\n",
    "        output_dir (str): Directory where output .txt files will be saved.\n",
    "        dpi (int): Resolution for converting PDF pages to images.\n",
    "    \"\"\"\n",
    "    # Create output directory\n",
    "    os.makedirs(output_dir, exist_ok=True)\n",
    "\n",
    "    # Convert PDF to images\n",
    "    images = convert_from_path(pdf_path, dpi=dpi)\n",
    "\n",
    "    # OCR each image and save as .txt\n",
    "    for i, img in enumerate(tqdm(images, desc=\"OCR Processing\"), start=1):\n",
    "        text = pytesseract.image_to_string(img)\n",
    "        output_path = os.path.join(output_dir, f\"page_{i}.txt\")\n",
    "        with open(output_path, \"w\", encoding=\"utf-8\") as f:\n",
    "            f.write(text)\n",
    "\n",
    "    print(f\"\\n✅ Saved {len(images)} text files to: {output_dir}\")\n",
    "\n"
   ]
  },
  {
   "cell_type": "code",
   "execution_count": 4,
   "metadata": {},
   "outputs": [
    {
     "name": "stderr",
     "output_type": "stream",
     "text": [
      "OCR Processing: 100%|██████████| 18/18 [00:37<00:00,  2.11s/it]"
     ]
    },
    {
     "name": "stdout",
     "output_type": "stream",
     "text": [
      "\n",
      "✅ Saved 18 text files to: ocr_pages\n"
     ]
    },
    {
     "name": "stderr",
     "output_type": "stream",
     "text": [
      "\n"
     ]
    }
   ],
   "source": [
    "ocr_pdf_to_txt_per_page(\"/Users/othmanbensouda/Desktop/LASC/debt_collection_project/documents/23CHLC18998_94523059.pdf\")\n"
   ]
  },
  {
   "cell_type": "markdown",
   "metadata": {},
   "source": [
    "# Vectorize and send to pinecone"
   ]
  },
  {
   "cell_type": "code",
   "execution_count": 13,
   "metadata": {},
   "outputs": [
    {
     "name": "stderr",
     "output_type": "stream",
     "text": [
      "Loading OCR: 100%|██████████| 18/18 [00:00<00:00, 2693.36it/s]\n"
     ]
    },
    {
     "name": "stdout",
     "output_type": "stream",
     "text": [
      "✅ Indexed 59 chunks from 17 OCR pages.\n"
     ]
    }
   ],
   "source": [
    "import os\n",
    "from dotenv import load_dotenv\n",
    "from tqdm import tqdm\n",
    "from openai import OpenAI\n",
    "from pinecone import Pinecone\n",
    "from langchain_pinecone import PineconeVectorStore\n",
    "from langchain_core.documents import Document\n",
    "from langchain_text_splitters import RecursiveCharacterTextSplitter\n",
    "from langchain_openai import OpenAIEmbeddings\n",
    "\n",
    "\n",
    "\n",
    "# === Load .env ===\n",
    "load_dotenv()\n",
    "\n",
    "# === Set up OpenAI + Pinecone clients ===\n",
    "client = OpenAI(api_key=os.getenv(\"OPENAI_API_KEY\"))\n",
    "pc = Pinecone(api_key=os.getenv(\"PINECONE_API_KEY\"))\n",
    "index = pc.Index(\"lasc\")\n",
    "\n",
    "embedding = OpenAIEmbeddings(model=\"text-embedding-3-small\")\n",
    "vector_store = PineconeVectorStore(index=index, embedding=embedding)\n",
    "\n",
    "\n",
    "# === Load OCR .txt files ===\n",
    "output_dir = \"ocr_pages\"\n",
    "docs = []\n",
    "for filename in tqdm(sorted(os.listdir(output_dir)), desc=\"Loading OCR\"):\n",
    "    if filename.endswith(\".txt\"):\n",
    "        with open(os.path.join(output_dir, filename), \"r\", encoding=\"utf-8\") as f:\n",
    "            content = f.read().strip()\n",
    "            if content:\n",
    "                docs.append(Document(page_content=content, metadata={\"source\": filename}))\n",
    "\n",
    "# === Split documents ===\n",
    "splitter = RecursiveCharacterTextSplitter(chunk_size=1000, chunk_overlap=200)\n",
    "all_splits = splitter.split_documents(docs)\n",
    "\n",
    "# === Upload to Pinecone ===\n",
    "vector_store.add_documents(all_splits)\n",
    "print(f\"✅ Indexed {len(all_splits)} chunks from {len(docs)} OCR pages.\")\n",
    "\n"
   ]
  },
  {
   "cell_type": "markdown",
   "metadata": {},
   "source": [
    "# Query "
   ]
  },
  {
   "cell_type": "code",
   "execution_count": 2,
   "metadata": {},
   "outputs": [
    {
     "name": "stderr",
     "output_type": "stream",
     "text": [
      "/Users/othmanbensouda/Desktop/LASC/debt_collection_project/venv/lib/python3.12/site-packages/tqdm/auto.py:21: TqdmWarning: IProgress not found. Please update jupyter and ipywidgets. See https://ipywidgets.readthedocs.io/en/stable/user_install.html\n",
      "  from .autonotebook import tqdm as notebook_tqdm\n"
     ]
    }
   ],
   "source": [
    "from langchain_openai import ChatOpenAI, OpenAIEmbeddings\n",
    "from langchain_pinecone import PineconeVectorStore\n",
    "from pinecone import Pinecone\n",
    "from dotenv import load_dotenv\n",
    "import os\n",
    "\n",
    "# Load env vars\n",
    "load_dotenv()\n",
    "\n",
    "# Clients\n",
    "llm = ChatOpenAI(model=\"gpt-4\", temperature=0)  # or \"gpt-3.5-turbo\"\n",
    "embedding = OpenAIEmbeddings(model=\"text-embedding-3-small\")\n",
    "pc = Pinecone(api_key=os.getenv(\"PINECONE_API_KEY\"))\n",
    "index = pc.Index(\"lasc\")\n",
    "vectorstore = PineconeVectorStore(index=index, embedding=embedding)\n"
   ]
  },
  {
   "cell_type": "code",
   "execution_count": 3,
   "metadata": {},
   "outputs": [],
   "source": [
    "from langchain.chains import RetrievalQA\n",
    "\n",
    "qa_chain = RetrievalQA.from_chain_type(\n",
    "    llm=llm,\n",
    "    retriever=vectorstore.as_retriever(),\n",
    "    return_source_documents=True\n",
    ")\n"
   ]
  },
  {
   "cell_type": "code",
   "execution_count": 16,
   "metadata": {},
   "outputs": [
    {
     "name": "stdout",
     "output_type": "stream",
     "text": [
      "Answer: Yes, the plaintiff, VELOCITY INVESTMENTS LLC, is a debt buyer and the sole owner of the account.\n",
      "\n",
      "Sources:\n",
      "- page_2.txt\n",
      "- page_2.txt\n",
      "- page_1.txt\n",
      "- page_4.txt\n"
     ]
    }
   ],
   "source": [
    "query = \"Is the plaintiff a debt buyer?\"\n",
    "response = qa_chain.invoke({\"query\": query})\n",
    "\n",
    "print(\"Answer:\", response[\"result\"])\n",
    "print(\"\\nSources:\")\n",
    "for doc in response[\"source_documents\"]:\n",
    "    print(\"-\", doc.metadata.get(\"source\", \"unknown\"))\n"
   ]
  },
  {
   "cell_type": "code",
   "execution_count": 4,
   "metadata": {},
   "outputs": [
    {
     "name": "stdout",
     "output_type": "stream",
     "text": [
      "Answer: The defendant is Paul Fernandez and DOES 1 through 15 inclusive.\n",
      "\n",
      "Sources:\n",
      "- page_2.txt\n",
      "- page_1.txt\n",
      "- page_1.txt\n",
      "- page_1.txt\n"
     ]
    }
   ],
   "source": [
    "query = \"Who is the defendant?\"\n",
    "response = qa_chain.invoke({\"query\": query})\n",
    "\n",
    "print(\"Answer:\", response[\"result\"])\n",
    "print(\"\\nSources:\")\n",
    "for doc in response[\"source_documents\"]:\n",
    "    print(\"-\", doc.metadata.get(\"source\", \"unknown\"))\n"
   ]
  },
  {
   "cell_type": "markdown",
   "metadata": {},
   "source": [
    "# Langgraph (serial)"
   ]
  },
  {
   "cell_type": "code",
   "execution_count": 48,
   "metadata": {},
   "outputs": [],
   "source": [
    "from langgraph.graph import StateGraph, END\n",
    "from langchain_core.runnables import Runnable\n",
    "from langchain.chains import RetrievalQA\n",
    "from langchain_openai import ChatOpenAI, OpenAIEmbeddings\n",
    "from langchain_pinecone import PineconeVectorStore\n",
    "from pinecone import Pinecone\n",
    "from dotenv import load_dotenv\n",
    "import os\n",
    "\n",
    "# Load env vars\n",
    "load_dotenv()\n",
    "\n",
    "# Init clients\n",
    "llm = ChatOpenAI(model=\"gpt-4\", temperature=0)\n",
    "embedding = OpenAIEmbeddings(model=\"text-embedding-3-small\")\n",
    "pc = Pinecone(api_key=os.getenv(\"PINECONE_API_KEY\"))\n",
    "index = pc.Index(\"lasc\")\n",
    "vectorstore = PineconeVectorStore(index=index, embedding=embedding)\n",
    "retriever = vectorstore.as_retriever()\n"
   ]
  },
  {
   "cell_type": "code",
   "execution_count": 49,
   "metadata": {},
   "outputs": [],
   "source": [
    "def create_qa_chain(query):\n",
    "    return RetrievalQA.from_chain_type(\n",
    "        llm=llm,\n",
    "        retriever=retriever,\n",
    "        return_source_documents=True\n",
    "    ).bind({\"query\": query})\n"
   ]
  },
  {
   "cell_type": "code",
   "execution_count": 52,
   "metadata": {},
   "outputs": [],
   "source": [
    "def ask_if_debt_buyer(state):\n",
    "    qa_chain = RetrievalQA.from_chain_type(\n",
    "        llm=llm,\n",
    "        retriever=retriever,\n",
    "        return_source_documents=True\n",
    "    )\n",
    "    result = qa_chain.invoke({\"query\": \"Is the plaintiff a debt buyer?\"})\n",
    "    return {\"debt_buyer\": result}\n",
    "\n",
    "def ask_defendant(state):\n",
    "    qa_chain = RetrievalQA.from_chain_type(\n",
    "        llm=llm,\n",
    "        retriever=retriever,\n",
    "        return_source_documents=True\n",
    "    )\n",
    "    result = qa_chain.invoke({\"query\": \"Who is the defendant?\"})\n",
    "    return {\"defendant\": result}\n",
    "\n"
   ]
  },
  {
   "cell_type": "code",
   "execution_count": 53,
   "metadata": {},
   "outputs": [],
   "source": [
    "from typing import TypedDict, Optional, Any\n",
    "\n",
    "class QAState(TypedDict):\n",
    "    debt_buyer: Optional[Any]\n",
    "    defendant: Optional[Any]\n",
    "\n",
    "\n",
    "from langgraph.graph import StateGraph, END\n",
    "\n",
    "builder = StateGraph(state_schema=QAState)\n",
    "\n",
    "# Add nodes\n",
    "builder.add_node(\"ask_debt_buyer\", ask_if_debt_buyer)\n",
    "builder.add_node(\"ask_defendant\", ask_defendant)\n",
    "\n",
    "# Define flow\n",
    "builder.set_entry_point(\"ask_debt_buyer\")\n",
    "builder.add_edge(\"ask_debt_buyer\", \"ask_defendant\")\n",
    "builder.add_edge(\"ask_defendant\", END)\n",
    "\n",
    "# Compile and invoke\n",
    "graph = builder.compile()\n",
    "final_output = graph.invoke({})\n"
   ]
  },
  {
   "cell_type": "code",
   "execution_count": 54,
   "metadata": {},
   "outputs": [
    {
     "name": "stdout",
     "output_type": "stream",
     "text": [
      "{'debt_buyer': {'query': 'Is the plaintiff a debt buyer?', 'result': 'Yes, the plaintiff, VELOCITY INVESTMENTS LLC, is a debt buyer and the sole owner of the account.', 'source_documents': [Document(id='35dd8cfc-32e8-4d04-a92d-b7423fec14f1', metadata={'source': 'page_2.txt'}, page_content='7. The charge-off creditor was MPLI CAPITAL HOLDINGS ISSUED BY FINWISE BANK\\nSERVICED BY UPSTART NETWORK INC, 71 STEVENSON STREET SUITE 300 SAN\\nFRANCISCO CA 94105 and account number at time of charge-off was *****8068.\\n\\n8. The name(s) and last known address(es) of Defendant(s) as they appeared in the charge-off\\ncreditor\\'s records prior to the sale of the debt, or for debt sold prior to January 1, 2014, the name and\\nlast known address of Defendant as they appeared in the debt owner\\'s records on December 31, 2013\\nwas PAUL FERNANDEZ, 216 W MARKLAND DR, MONTEREY PARK CA 91754.\\n\\n9. The names and addresses of all persons or entities that purchased or were assigned the debt after\\ncharge-off are:\\n\\nName Address\\n\\nVELOCITY INVESTMENTS LLC 1800 ROUTE 34 NORTH, WALL, NJ 07719\\nAttached hereto collectively as Exhibit \"B\" are true and correct copies of said transfers and are\\nincorporated herein by reference.\\n\\n10. Plaintiff has complied with California Civil Code section 1788.52.'), Document(id='c5d7b7f9-fed5-4014-936a-176f60307edc', metadata={'source': 'page_2.txt'}, page_content='So Oo NN DB WOW BR W NO\\n\\n10\\n11\\n12\\n13\\n14\\n15\\n16\\n17\\n18\\n19\\n20\\n21\\n22\\n23\\n24\\n25\\n26\\n27\\n28\\n\\nComplaint, was and at all times herein mentioned, and now is, the agent and employee of each of the\\nother Defendant(s) herein, and was at all times acting within the course and scope of said agency and\\nemployment.\\n\\n4. Plaintiff alleges that the Defendant(s), or some of them, reside in the above-cited Judicial\\nDistrict. The obligation sued upon is not commercial in nature and is not subject to the provisions of\\nCivil Code, §2984.4, nor Civil Code, $1812.10.\\n\\n5. Defendant(s), and each of them, requested a line of credit (the \"Account\") from the original\\ncredit issuer. Thereafter, said request was accepted and credit was extended to Defendant(s).\\n\\n6. Defendant(s) incurred this debt by defaulting on the Contract by failing to pay the agreed upon\\npayments. A copy of the Contract is attached as Exhibit \"A\" and incorporated by reference to this\\ncomplaint.'), Document(id='ce68e02f-2668-45a1-9029-075d935acaa3', metadata={'source': 'page_1.txt'}, page_content='2. Open Book Account\\n\\n3. Indebtedness\\n\\nV.\\n\\nPAUL FERNANDEZ,\\nand DOES 1 through 15 inclusive,\\nLimited Jurisdiction\\n\\nDefendant(s). [Demand Amount: $3,116.30]\\n\\n44... ea a\\n\\nGENERAL ALLEGATIONS\\n\\n1. At all times mentioned herein, Plaintiff VELOCITY INVESTMENTS LLC was, and now is\\na LIMITED LIABILITY COMPANY, duly organized and existing under and by virtue of the state of\\nits formation and at all times herein and is successor-in-interest of MPLI CAPITAL HOLDINGS\\nISSUED BY FINWISE BANK SERVICED BY UPSTART NETWORK INC, and is qualified to\\nconduct business in the State of California. Plaintiff is a debt buyer and sole owner of account.\\n\\n2. The true names and capacities of Defendant(s), DOES 1 through 15, inclusive, are unknown to\\nPlaintiff at this time, who therefore sues said Defendant(s) by such fictitious names. Plaintiff is\\ninformed and believes, and thereon alleges, that each Defendant named as a DOE is responsible for\\neach and every obligation hereinafter set forth.'), Document(id='20e400a8-733b-4dce-b3cb-28d975e697a4', metadata={'source': 'page_4.txt'}, page_content='So OO NN DB Wn BR W NO\\n\\n10\\n11\\n12\\n13\\n14\\n15\\n16\\n17\\n18\\n19\\n20\\n21\\n22\\n23\\n24\\n25\\n26\\n27\\n28\\n\\nTHIRD CAUSE OF ACTION\\n(Indebtedness)\\n18. Plaintiff refers to Paragraphs | through 17, inclusive of the First Cause of Action, and by this\\nreference incorporates the same herein as though fully set forth.\\nWHEREFORE, Plaintiff prays for judgment against Defendant, and each of them as follows:\\nAS.TO ALL CAUSES OF ACTION:\\n1. For the sum of $3,116.30;\\n2. For costs of suit incurred herein; and,\\n3. For such other further relief as the Court may deem just and proper.\\n\\nDATED:\\nJUNE 8, 2023\\nRESURGENCE LEGAL GROUP, PC\\n\\n& BRYANT BURNSTAD, SBN 297286\\nAttorney for Plaintiff\\n\\nCalifornia Debt Collection License #10749-99.\\n\\nThis is an attempt to collect a debt by a debt collector and any information obtained will be used for\\nthat purpose.\\n\\n. erp eps For tO')]}, 'defendant': {'query': 'Who is the defendant?', 'result': 'The defendant is Paul Fernandez and DOES 1 through 15 inclusive.', 'source_documents': [Document(id='c5d7b7f9-fed5-4014-936a-176f60307edc', metadata={'source': 'page_2.txt'}, page_content='So Oo NN DB WOW BR W NO\\n\\n10\\n11\\n12\\n13\\n14\\n15\\n16\\n17\\n18\\n19\\n20\\n21\\n22\\n23\\n24\\n25\\n26\\n27\\n28\\n\\nComplaint, was and at all times herein mentioned, and now is, the agent and employee of each of the\\nother Defendant(s) herein, and was at all times acting within the course and scope of said agency and\\nemployment.\\n\\n4. Plaintiff alleges that the Defendant(s), or some of them, reside in the above-cited Judicial\\nDistrict. The obligation sued upon is not commercial in nature and is not subject to the provisions of\\nCivil Code, §2984.4, nor Civil Code, $1812.10.\\n\\n5. Defendant(s), and each of them, requested a line of credit (the \"Account\") from the original\\ncredit issuer. Thereafter, said request was accepted and credit was extended to Defendant(s).\\n\\n6. Defendant(s) incurred this debt by defaulting on the Contract by failing to pay the agreed upon\\npayments. A copy of the Contract is attached as Exhibit \"A\" and incorporated by reference to this\\ncomplaint.'), Document(id='ce68e02f-2668-45a1-9029-075d935acaa3', metadata={'source': 'page_1.txt'}, page_content='2. Open Book Account\\n\\n3. Indebtedness\\n\\nV.\\n\\nPAUL FERNANDEZ,\\nand DOES 1 through 15 inclusive,\\nLimited Jurisdiction\\n\\nDefendant(s). [Demand Amount: $3,116.30]\\n\\n44... ea a\\n\\nGENERAL ALLEGATIONS\\n\\n1. At all times mentioned herein, Plaintiff VELOCITY INVESTMENTS LLC was, and now is\\na LIMITED LIABILITY COMPANY, duly organized and existing under and by virtue of the state of\\nits formation and at all times herein and is successor-in-interest of MPLI CAPITAL HOLDINGS\\nISSUED BY FINWISE BANK SERVICED BY UPSTART NETWORK INC, and is qualified to\\nconduct business in the State of California. Plaintiff is a debt buyer and sole owner of account.\\n\\n2. The true names and capacities of Defendant(s), DOES 1 through 15, inclusive, are unknown to\\nPlaintiff at this time, who therefore sues said Defendant(s) by such fictitious names. Plaintiff is\\ninformed and believes, and thereon alleges, that each Defendant named as a DOE is responsible for\\neach and every obligation hereinafter set forth.'), Document(id='bd9455d9-089a-4e56-bbf0-cac7386ddf4e', metadata={'source': 'page_1.txt'}, page_content='3. Plaintiff is informed and believes, and thereon alleges, that each Defendant named in this\\n\\n1\\nTT COMPLAINTFORMONEY~—~—CS...( (OSC'), Document(id='f60ac55c-cd3c-4ca2-b08f-bd5299f7311c', metadata={'source': 'page_1.txt'}, page_content='So Oo NN DB WOW BR W NO\\n\\n10\\n11\\n12\\n13\\n14\\n15\\n16\\n17\\n18\\n19\\n20\\n21\\n22\\n23\\n24\\n25\\n26\\n27\\n28\\n\\nBRYANT BURNSTAD, SBN 297286 Electronically FILED by\\nRESURGENCE LEGAL GROUP, PC Superior Court of California,\\n10805 Holder Street, Suite 167 5 20/D0e3 1007 AM\\nCypress, CA 90630 David W. Slayton,\\n\\n(T) 877/440-0860 (F) 714/226-0024 Executive Officer/Clerk of Court,\\nEMAIL: CAAttorney@ResurgenceLegal.com By D. Medrano, Deputy Clerk\\n\\nRefer to File Number: TP 123037\\nAttomey for Plaintiff\\nSUPERIOR COURT OF THE STATE OF CALIFORNIA COUNTY OF\\nLOS ANGELES, NORTH VALLEY JUDICIAL DISTRICT\\n\\nCHATSWORTH COURTHOUSE\\n\\nVELOCITY INVESTMENTS LLC, CASENO. 2 30>HLOl18998\\n\\nPlaintiff, COMPLAINT FOR MONEY\\n1. Account Stated\\n\\n2. Open Book Account\\n\\n3. Indebtedness\\n\\nV.\\n\\nPAUL FERNANDEZ,\\nand DOES 1 through 15 inclusive,\\nLimited Jurisdiction\\n\\nDefendant(s). [Demand Amount: $3,116.30]\\n\\n44... ea a\\n\\nGENERAL ALLEGATIONS')]}}\n"
     ]
    }
   ],
   "source": [
    "final_output = graph.invoke({})\n",
    "\n",
    "print(final_output)\n"
   ]
  },
  {
   "cell_type": "code",
   "execution_count": 55,
   "metadata": {},
   "outputs": [
    {
     "data": {
      "image/png": "[encoded data removed]",
      "text/plain": [
       "<IPython.core.display.Image object>"
      ]
     },
     "metadata": {},
     "output_type": "display_data"
    }
   ],
   "source": [
    "from IPython.display import Image, display\n",
    "from langchain_core.runnables.graph import CurveStyle, MermaidDrawMethod, NodeStyles\n",
    "\n",
    "display(\n",
    "    Image(\n",
    "        graph.get_graph().draw_mermaid_png(\n",
    "            draw_method=MermaidDrawMethod.API,  \n",
    "            curve_style=CurveStyle.LINEAR,\n",
    "            node_colors=NodeStyles(\n",
    "                first=\"#ffdfba\",\n",
    "                last=\"#baffc9\",\n",
    "                default=\"#d0e1f9\"\n",
    "            ),\n",
    "            wrap_label_n_words=5,\n",
    "            background_color=\"white\",\n",
    "            padding=10,\n",
    "        )\n",
    "    )\n",
    ")\n"
   ]
  }
 ],
 "metadata": {
  "kernelspec": {
   "display_name": "venv",
   "language": "python",
   "name": "python3"
  },
  "language_info": {
   "codemirror_mode": {
    "name": "ipython",
    "version": 3
   },
   "file_extension": ".py",
   "mimetype": "text/x-python",
   "name": "python",
   "nbconvert_exporter": "python",
   "pygments_lexer": "ipython3",
   "version": "3.12.0"
  }
 },
 "nbformat": 4,
 "nbformat_minor": 2
}
